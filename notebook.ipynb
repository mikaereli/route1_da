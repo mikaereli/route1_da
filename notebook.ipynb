{
 "cells": [
  {
   "cell_type": "markdown",
   "metadata": {},
   "source": [
    "# Установка недостоющих библиотек/фреймворков"
   ]
  },
  {
   "cell_type": "code",
   "execution_count": 1,
   "metadata": {},
   "outputs": [
    {
     "name": "stdout",
     "output_type": "stream",
     "text": [
      "Requirement already satisfied: folium in /Library/Frameworks/Python.framework/Versions/3.13/lib/python3.13/site-packages (0.20.0)\n",
      "Requirement already satisfied: branca>=0.6.0 in /Library/Frameworks/Python.framework/Versions/3.13/lib/python3.13/site-packages (from folium) (0.8.1)\n",
      "Requirement already satisfied: jinja2>=2.9 in /Library/Frameworks/Python.framework/Versions/3.13/lib/python3.13/site-packages (from folium) (3.1.2)\n",
      "Requirement already satisfied: numpy in /Library/Frameworks/Python.framework/Versions/3.13/lib/python3.13/site-packages (from folium) (2.2.4)\n",
      "Requirement already satisfied: requests in /Library/Frameworks/Python.framework/Versions/3.13/lib/python3.13/site-packages (from folium) (2.32.3)\n",
      "Requirement already satisfied: xyzservices in /Library/Frameworks/Python.framework/Versions/3.13/lib/python3.13/site-packages (from folium) (2025.4.0)\n",
      "Requirement already satisfied: MarkupSafe>=2.0 in /Library/Frameworks/Python.framework/Versions/3.13/lib/python3.13/site-packages (from jinja2>=2.9->folium) (3.0.2)\n",
      "Requirement already satisfied: charset-normalizer<4,>=2 in /Library/Frameworks/Python.framework/Versions/3.13/lib/python3.13/site-packages (from requests->folium) (3.4.1)\n",
      "Requirement already satisfied: idna<4,>=2.5 in /Library/Frameworks/Python.framework/Versions/3.13/lib/python3.13/site-packages (from requests->folium) (3.10)\n",
      "Requirement already satisfied: urllib3<3,>=1.21.1 in /Library/Frameworks/Python.framework/Versions/3.13/lib/python3.13/site-packages (from requests->folium) (2.3.0)\n",
      "Requirement already satisfied: certifi>=2017.4.17 in /Library/Frameworks/Python.framework/Versions/3.13/lib/python3.13/site-packages (from requests->folium) (2025.1.31)\n"
     ]
    }
   ],
   "source": [
    "!pip install folium"
   ]
  },
  {
   "cell_type": "markdown",
   "metadata": {},
   "source": [
    "# Классификация ям разных вероятностей"
   ]
  },
  {
   "cell_type": "code",
   "execution_count": 2,
   "metadata": {},
   "outputs": [],
   "source": [
    "import pandas as pd \n",
    "import numpy as np\n",
    "import folium"
   ]
  },
  {
   "cell_type": "code",
   "execution_count": 3,
   "metadata": {},
   "outputs": [],
   "source": [
    "df = pd.read_csv('data/1_w.csv', encoding='cp1251', sep=';')\n"
   ]
  },
  {
   "cell_type": "code",
   "execution_count": 4,
   "metadata": {},
   "outputs": [
    {
     "data": {
      "text/html": [
       "<div>\n",
       "<style scoped>\n",
       "    .dataframe tbody tr th:only-of-type {\n",
       "        vertical-align: middle;\n",
       "    }\n",
       "\n",
       "    .dataframe tbody tr th {\n",
       "        vertical-align: top;\n",
       "    }\n",
       "\n",
       "    .dataframe thead th {\n",
       "        text-align: right;\n",
       "    }\n",
       "</style>\n",
       "<table border=\"1\" class=\"dataframe\">\n",
       "  <thead>\n",
       "    <tr style=\"text-align: right;\">\n",
       "      <th></th>\n",
       "      <th>len</th>\n",
       "      <th>Скорость</th>\n",
       "      <th>Широта</th>\n",
       "      <th>Долгота</th>\n",
       "      <th>Высота</th>\n",
       "      <th>X Rotation</th>\n",
       "      <th>Y Rotation</th>\n",
       "      <th>Вес мгновенный</th>\n",
       "      <th>Уровень топлива, литры</th>\n",
       "      <th>Уровень топлива, проценты</th>\n",
       "      <th>...</th>\n",
       "      <th>подъем</th>\n",
       "      <th>спуск</th>\n",
       "      <th>incline</th>\n",
       "      <th>рекомендованная скорость_min</th>\n",
       "      <th>рекомендованная скорость_max</th>\n",
       "      <th>new_slope</th>\n",
       "      <th>incline_</th>\n",
       "      <th>indicator_slope</th>\n",
       "      <th>mean_slope</th>\n",
       "      <th>shtraf</th>\n",
       "    </tr>\n",
       "  </thead>\n",
       "  <tbody>\n",
       "    <tr>\n",
       "      <th>0</th>\n",
       "      <td>0.0</td>\n",
       "      <td>8.0</td>\n",
       "      <td>60.646058</td>\n",
       "      <td>59.714841</td>\n",
       "      <td>334.0</td>\n",
       "      <td>79.736983</td>\n",
       "      <td>-0.466904</td>\n",
       "      <td>99.0</td>\n",
       "      <td>NaN</td>\n",
       "      <td>92.8</td>\n",
       "      <td>...</td>\n",
       "      <td>0</td>\n",
       "      <td>0</td>\n",
       "      <td>up</td>\n",
       "      <td>0.0</td>\n",
       "      <td>0.0</td>\n",
       "      <td>1.728200</td>\n",
       "      <td>up</td>\n",
       "      <td>0</td>\n",
       "      <td>0.010000</td>\n",
       "      <td>0.000000</td>\n",
       "    </tr>\n",
       "    <tr>\n",
       "      <th>1</th>\n",
       "      <td>2.0</td>\n",
       "      <td>8.0</td>\n",
       "      <td>60.646048</td>\n",
       "      <td>59.714865</td>\n",
       "      <td>333.9</td>\n",
       "      <td>78.123769</td>\n",
       "      <td>-4.759739</td>\n",
       "      <td>99.0</td>\n",
       "      <td>NaN</td>\n",
       "      <td>92.8</td>\n",
       "      <td>...</td>\n",
       "      <td>0</td>\n",
       "      <td>0</td>\n",
       "      <td>up</td>\n",
       "      <td>0.0</td>\n",
       "      <td>0.0</td>\n",
       "      <td>2.085185</td>\n",
       "      <td>up</td>\n",
       "      <td>0</td>\n",
       "      <td>0.010000</td>\n",
       "      <td>0.000000</td>\n",
       "    </tr>\n",
       "    <tr>\n",
       "      <th>2</th>\n",
       "      <td>4.0</td>\n",
       "      <td>9.0</td>\n",
       "      <td>60.646032</td>\n",
       "      <td>59.714886</td>\n",
       "      <td>334.0</td>\n",
       "      <td>84.516539</td>\n",
       "      <td>-0.780620</td>\n",
       "      <td>99.0</td>\n",
       "      <td>NaN</td>\n",
       "      <td>92.8</td>\n",
       "      <td>...</td>\n",
       "      <td>0</td>\n",
       "      <td>0</td>\n",
       "      <td>up</td>\n",
       "      <td>9.0</td>\n",
       "      <td>0.0</td>\n",
       "      <td>2.135208</td>\n",
       "      <td>up</td>\n",
       "      <td>0</td>\n",
       "      <td>0.010000</td>\n",
       "      <td>0.000000</td>\n",
       "    </tr>\n",
       "    <tr>\n",
       "      <th>3</th>\n",
       "      <td>7.0</td>\n",
       "      <td>9.0</td>\n",
       "      <td>60.646012</td>\n",
       "      <td>59.714915</td>\n",
       "      <td>334.3</td>\n",
       "      <td>83.064053</td>\n",
       "      <td>-3.043537</td>\n",
       "      <td>99.0</td>\n",
       "      <td>NaN</td>\n",
       "      <td>92.8</td>\n",
       "      <td>...</td>\n",
       "      <td>0</td>\n",
       "      <td>0</td>\n",
       "      <td>up</td>\n",
       "      <td>9.5</td>\n",
       "      <td>0.0</td>\n",
       "      <td>1.983704</td>\n",
       "      <td>up</td>\n",
       "      <td>0</td>\n",
       "      <td>0.010000</td>\n",
       "      <td>0.000000</td>\n",
       "    </tr>\n",
       "    <tr>\n",
       "      <th>4</th>\n",
       "      <td>9.0</td>\n",
       "      <td>9.0</td>\n",
       "      <td>60.645999</td>\n",
       "      <td>59.714938</td>\n",
       "      <td>334.1</td>\n",
       "      <td>85.258071</td>\n",
       "      <td>-1.037494</td>\n",
       "      <td>99.0</td>\n",
       "      <td>NaN</td>\n",
       "      <td>92.8</td>\n",
       "      <td>...</td>\n",
       "      <td>0</td>\n",
       "      <td>0</td>\n",
       "      <td>up</td>\n",
       "      <td>0.0</td>\n",
       "      <td>0.0</td>\n",
       "      <td>1.716917</td>\n",
       "      <td>up</td>\n",
       "      <td>0</td>\n",
       "      <td>1.983074</td>\n",
       "      <td>0.388857</td>\n",
       "    </tr>\n",
       "  </tbody>\n",
       "</table>\n",
       "<p>5 rows × 70 columns</p>\n",
       "</div>"
      ],
      "text/plain": [
       "   len  Скорость     Широта    Долгота  Высота  X Rotation  Y Rotation  \\\n",
       "0  0.0       8.0  60.646058  59.714841   334.0   79.736983   -0.466904   \n",
       "1  2.0       8.0  60.646048  59.714865   333.9   78.123769   -4.759739   \n",
       "2  4.0       9.0  60.646032  59.714886   334.0   84.516539   -0.780620   \n",
       "3  7.0       9.0  60.646012  59.714915   334.3   83.064053   -3.043537   \n",
       "4  9.0       9.0  60.645999  59.714938   334.1   85.258071   -1.037494   \n",
       "\n",
       "   Вес мгновенный  Уровень топлива, литры  Уровень топлива, проценты  ...  \\\n",
       "0            99.0                     NaN                       92.8  ...   \n",
       "1            99.0                     NaN                       92.8  ...   \n",
       "2            99.0                     NaN                       92.8  ...   \n",
       "3            99.0                     NaN                       92.8  ...   \n",
       "4            99.0                     NaN                       92.8  ...   \n",
       "\n",
       "   подъем  спуск  incline  рекомендованная скорость_min  \\\n",
       "0       0      0       up                           0.0   \n",
       "1       0      0       up                           0.0   \n",
       "2       0      0       up                           9.0   \n",
       "3       0      0       up                           9.5   \n",
       "4       0      0       up                           0.0   \n",
       "\n",
       "   рекомендованная скорость_max new_slope  incline_  indicator_slope  \\\n",
       "0                           0.0  1.728200        up                0   \n",
       "1                           0.0  2.085185        up                0   \n",
       "2                           0.0  2.135208        up                0   \n",
       "3                           0.0  1.983704        up                0   \n",
       "4                           0.0  1.716917        up                0   \n",
       "\n",
       "   mean_slope    shtraf  \n",
       "0    0.010000  0.000000  \n",
       "1    0.010000  0.000000  \n",
       "2    0.010000  0.000000  \n",
       "3    0.010000  0.000000  \n",
       "4    1.983074  0.388857  \n",
       "\n",
       "[5 rows x 70 columns]"
      ]
     },
     "execution_count": 4,
     "metadata": {},
     "output_type": "execute_result"
    }
   ],
   "source": [
    "df.head()"
   ]
  },
  {
   "cell_type": "code",
   "execution_count": 5,
   "metadata": {},
   "outputs": [],
   "source": [
    "df['xy'] = df.apply(lambda x: [x['Широта'], x['Долгота']], axis=1)"
   ]
  },
  {
   "cell_type": "code",
   "execution_count": 6,
   "metadata": {},
   "outputs": [
    {
     "data": {
      "text/html": [
       "<div>\n",
       "<style scoped>\n",
       "    .dataframe tbody tr th:only-of-type {\n",
       "        vertical-align: middle;\n",
       "    }\n",
       "\n",
       "    .dataframe tbody tr th {\n",
       "        vertical-align: top;\n",
       "    }\n",
       "\n",
       "    .dataframe thead th {\n",
       "        text-align: right;\n",
       "    }\n",
       "</style>\n",
       "<table border=\"1\" class=\"dataframe\">\n",
       "  <thead>\n",
       "    <tr style=\"text-align: right;\">\n",
       "      <th></th>\n",
       "      <th>len</th>\n",
       "      <th>Скорость</th>\n",
       "      <th>Широта</th>\n",
       "      <th>Долгота</th>\n",
       "      <th>Высота</th>\n",
       "      <th>X Rotation</th>\n",
       "      <th>Y Rotation</th>\n",
       "      <th>Вес мгновенный</th>\n",
       "      <th>Уровень топлива, литры</th>\n",
       "      <th>Уровень топлива, проценты</th>\n",
       "      <th>...</th>\n",
       "      <th>спуск</th>\n",
       "      <th>incline</th>\n",
       "      <th>рекомендованная скорость_min</th>\n",
       "      <th>рекомендованная скорость_max</th>\n",
       "      <th>new_slope</th>\n",
       "      <th>incline_</th>\n",
       "      <th>indicator_slope</th>\n",
       "      <th>mean_slope</th>\n",
       "      <th>shtraf</th>\n",
       "      <th>xy</th>\n",
       "    </tr>\n",
       "  </thead>\n",
       "  <tbody>\n",
       "    <tr>\n",
       "      <th>0</th>\n",
       "      <td>0.0</td>\n",
       "      <td>8.0</td>\n",
       "      <td>60.646058</td>\n",
       "      <td>59.714841</td>\n",
       "      <td>334.0</td>\n",
       "      <td>79.736983</td>\n",
       "      <td>-0.466904</td>\n",
       "      <td>99.0</td>\n",
       "      <td>NaN</td>\n",
       "      <td>92.8</td>\n",
       "      <td>...</td>\n",
       "      <td>0</td>\n",
       "      <td>up</td>\n",
       "      <td>0.0</td>\n",
       "      <td>0.0</td>\n",
       "      <td>1.728200</td>\n",
       "      <td>up</td>\n",
       "      <td>0</td>\n",
       "      <td>0.010000</td>\n",
       "      <td>0.000000</td>\n",
       "      <td>[60.64605783333333, 59.71484083333333]</td>\n",
       "    </tr>\n",
       "    <tr>\n",
       "      <th>1</th>\n",
       "      <td>2.0</td>\n",
       "      <td>8.0</td>\n",
       "      <td>60.646048</td>\n",
       "      <td>59.714865</td>\n",
       "      <td>333.9</td>\n",
       "      <td>78.123769</td>\n",
       "      <td>-4.759739</td>\n",
       "      <td>99.0</td>\n",
       "      <td>NaN</td>\n",
       "      <td>92.8</td>\n",
       "      <td>...</td>\n",
       "      <td>0</td>\n",
       "      <td>up</td>\n",
       "      <td>0.0</td>\n",
       "      <td>0.0</td>\n",
       "      <td>2.085185</td>\n",
       "      <td>up</td>\n",
       "      <td>0</td>\n",
       "      <td>0.010000</td>\n",
       "      <td>0.000000</td>\n",
       "      <td>[60.64604833333333, 59.714865]</td>\n",
       "    </tr>\n",
       "    <tr>\n",
       "      <th>2</th>\n",
       "      <td>4.0</td>\n",
       "      <td>9.0</td>\n",
       "      <td>60.646032</td>\n",
       "      <td>59.714886</td>\n",
       "      <td>334.0</td>\n",
       "      <td>84.516539</td>\n",
       "      <td>-0.780620</td>\n",
       "      <td>99.0</td>\n",
       "      <td>NaN</td>\n",
       "      <td>92.8</td>\n",
       "      <td>...</td>\n",
       "      <td>0</td>\n",
       "      <td>up</td>\n",
       "      <td>9.0</td>\n",
       "      <td>0.0</td>\n",
       "      <td>2.135208</td>\n",
       "      <td>up</td>\n",
       "      <td>0</td>\n",
       "      <td>0.010000</td>\n",
       "      <td>0.000000</td>\n",
       "      <td>[60.64603183333333, 59.7148855]</td>\n",
       "    </tr>\n",
       "    <tr>\n",
       "      <th>3</th>\n",
       "      <td>7.0</td>\n",
       "      <td>9.0</td>\n",
       "      <td>60.646012</td>\n",
       "      <td>59.714915</td>\n",
       "      <td>334.3</td>\n",
       "      <td>83.064053</td>\n",
       "      <td>-3.043537</td>\n",
       "      <td>99.0</td>\n",
       "      <td>NaN</td>\n",
       "      <td>92.8</td>\n",
       "      <td>...</td>\n",
       "      <td>0</td>\n",
       "      <td>up</td>\n",
       "      <td>9.5</td>\n",
       "      <td>0.0</td>\n",
       "      <td>1.983704</td>\n",
       "      <td>up</td>\n",
       "      <td>0</td>\n",
       "      <td>0.010000</td>\n",
       "      <td>0.000000</td>\n",
       "      <td>[60.64601233333333, 59.714915]</td>\n",
       "    </tr>\n",
       "    <tr>\n",
       "      <th>4</th>\n",
       "      <td>9.0</td>\n",
       "      <td>9.0</td>\n",
       "      <td>60.645999</td>\n",
       "      <td>59.714938</td>\n",
       "      <td>334.1</td>\n",
       "      <td>85.258071</td>\n",
       "      <td>-1.037494</td>\n",
       "      <td>99.0</td>\n",
       "      <td>NaN</td>\n",
       "      <td>92.8</td>\n",
       "      <td>...</td>\n",
       "      <td>0</td>\n",
       "      <td>up</td>\n",
       "      <td>0.0</td>\n",
       "      <td>0.0</td>\n",
       "      <td>1.716917</td>\n",
       "      <td>up</td>\n",
       "      <td>0</td>\n",
       "      <td>1.983074</td>\n",
       "      <td>0.388857</td>\n",
       "      <td>[60.64599866666666, 59.71493816666667]</td>\n",
       "    </tr>\n",
       "  </tbody>\n",
       "</table>\n",
       "<p>5 rows × 71 columns</p>\n",
       "</div>"
      ],
      "text/plain": [
       "   len  Скорость     Широта    Долгота  Высота  X Rotation  Y Rotation  \\\n",
       "0  0.0       8.0  60.646058  59.714841   334.0   79.736983   -0.466904   \n",
       "1  2.0       8.0  60.646048  59.714865   333.9   78.123769   -4.759739   \n",
       "2  4.0       9.0  60.646032  59.714886   334.0   84.516539   -0.780620   \n",
       "3  7.0       9.0  60.646012  59.714915   334.3   83.064053   -3.043537   \n",
       "4  9.0       9.0  60.645999  59.714938   334.1   85.258071   -1.037494   \n",
       "\n",
       "   Вес мгновенный  Уровень топлива, литры  Уровень топлива, проценты  ...  \\\n",
       "0            99.0                     NaN                       92.8  ...   \n",
       "1            99.0                     NaN                       92.8  ...   \n",
       "2            99.0                     NaN                       92.8  ...   \n",
       "3            99.0                     NaN                       92.8  ...   \n",
       "4            99.0                     NaN                       92.8  ...   \n",
       "\n",
       "   спуск  incline  рекомендованная скорость_min  рекомендованная скорость_max  \\\n",
       "0      0       up                           0.0                           0.0   \n",
       "1      0       up                           0.0                           0.0   \n",
       "2      0       up                           9.0                           0.0   \n",
       "3      0       up                           9.5                           0.0   \n",
       "4      0       up                           0.0                           0.0   \n",
       "\n",
       "   new_slope incline_  indicator_slope  mean_slope    shtraf  \\\n",
       "0   1.728200       up                0    0.010000  0.000000   \n",
       "1   2.085185       up                0    0.010000  0.000000   \n",
       "2   2.135208       up                0    0.010000  0.000000   \n",
       "3   1.983704       up                0    0.010000  0.000000   \n",
       "4   1.716917       up                0    1.983074  0.388857   \n",
       "\n",
       "                                       xy  \n",
       "0  [60.64605783333333, 59.71484083333333]  \n",
       "1          [60.64604833333333, 59.714865]  \n",
       "2         [60.64603183333333, 59.7148855]  \n",
       "3          [60.64601233333333, 59.714915]  \n",
       "4  [60.64599866666666, 59.71493816666667]  \n",
       "\n",
       "[5 rows x 71 columns]"
      ]
     },
     "execution_count": 6,
     "metadata": {},
     "output_type": "execute_result"
    }
   ],
   "source": [
    "df.head()"
   ]
  },
  {
   "cell_type": "code",
   "execution_count": 7,
   "metadata": {},
   "outputs": [],
   "source": [
    "xy = df[['xy']]"
   ]
  },
  {
   "cell_type": "code",
   "execution_count": 8,
   "metadata": {},
   "outputs": [
    {
     "data": {
      "text/html": [
       "<div>\n",
       "<style scoped>\n",
       "    .dataframe tbody tr th:only-of-type {\n",
       "        vertical-align: middle;\n",
       "    }\n",
       "\n",
       "    .dataframe tbody tr th {\n",
       "        vertical-align: top;\n",
       "    }\n",
       "\n",
       "    .dataframe thead th {\n",
       "        text-align: right;\n",
       "    }\n",
       "</style>\n",
       "<table border=\"1\" class=\"dataframe\">\n",
       "  <thead>\n",
       "    <tr style=\"text-align: right;\">\n",
       "      <th></th>\n",
       "      <th>xy</th>\n",
       "    </tr>\n",
       "  </thead>\n",
       "  <tbody>\n",
       "    <tr>\n",
       "      <th>0</th>\n",
       "      <td>[60.64605783333333, 59.71484083333333]</td>\n",
       "    </tr>\n",
       "    <tr>\n",
       "      <th>1</th>\n",
       "      <td>[60.64604833333333, 59.714865]</td>\n",
       "    </tr>\n",
       "    <tr>\n",
       "      <th>2</th>\n",
       "      <td>[60.64603183333333, 59.7148855]</td>\n",
       "    </tr>\n",
       "    <tr>\n",
       "      <th>3</th>\n",
       "      <td>[60.64601233333333, 59.714915]</td>\n",
       "    </tr>\n",
       "    <tr>\n",
       "      <th>4</th>\n",
       "      <td>[60.64599866666666, 59.71493816666667]</td>\n",
       "    </tr>\n",
       "    <tr>\n",
       "      <th>...</th>\n",
       "      <td>...</td>\n",
       "    </tr>\n",
       "    <tr>\n",
       "      <th>670</th>\n",
       "      <td>[60.66160833333333, 59.7337985]</td>\n",
       "    </tr>\n",
       "    <tr>\n",
       "      <th>671</th>\n",
       "      <td>[60.661617, 59.733801166666666]</td>\n",
       "    </tr>\n",
       "    <tr>\n",
       "      <th>672</th>\n",
       "      <td>[60.661624833333335, 59.73380516666667]</td>\n",
       "    </tr>\n",
       "    <tr>\n",
       "      <th>673</th>\n",
       "      <td>[60.661633249999994, 59.73381525]</td>\n",
       "    </tr>\n",
       "    <tr>\n",
       "      <th>674</th>\n",
       "      <td>[60.66164366666667, 59.73383033333333]</td>\n",
       "    </tr>\n",
       "  </tbody>\n",
       "</table>\n",
       "<p>675 rows × 1 columns</p>\n",
       "</div>"
      ],
      "text/plain": [
       "                                          xy\n",
       "0     [60.64605783333333, 59.71484083333333]\n",
       "1             [60.64604833333333, 59.714865]\n",
       "2            [60.64603183333333, 59.7148855]\n",
       "3             [60.64601233333333, 59.714915]\n",
       "4     [60.64599866666666, 59.71493816666667]\n",
       "..                                       ...\n",
       "670          [60.66160833333333, 59.7337985]\n",
       "671          [60.661617, 59.733801166666666]\n",
       "672  [60.661624833333335, 59.73380516666667]\n",
       "673        [60.661633249999994, 59.73381525]\n",
       "674   [60.66164366666667, 59.73383033333333]\n",
       "\n",
       "[675 rows x 1 columns]"
      ]
     },
     "execution_count": 8,
     "metadata": {},
     "output_type": "execute_result"
    }
   ],
   "source": [
    "xy"
   ]
  },
  {
   "cell_type": "code",
   "execution_count": 9,
   "metadata": {},
   "outputs": [],
   "source": [
    "ind = df[df['point'].str.contains('point')].index.tolist()"
   ]
  },
  {
   "cell_type": "code",
   "execution_count": 10,
   "metadata": {},
   "outputs": [],
   "source": [
    "m = folium.Map(df.loc[0, 'xy'], zoom_start=13)"
   ]
  },
  {
   "cell_type": "code",
   "execution_count": 11,
   "metadata": {},
   "outputs": [
    {
     "data": {
      "text/html": [
       "<div style=\"width:100%;\"><div style=\"position:relative;width:100%;height:0;padding-bottom:60%;\"><span style=\"color:#565656\">Make this Notebook Trusted to load map: File -> Trust Notebook</span><iframe srcdoc=\"&lt;!DOCTYPE html&gt;\n",
       "&lt;html&gt;\n",
       "&lt;head&gt;\n",
       "    \n",
       "    &lt;meta http-equiv=&quot;content-type&quot; content=&quot;text/html; charset=UTF-8&quot; /&gt;\n",
       "    &lt;script src=&quot;https://cdn.jsdelivr.net/npm/leaflet@1.9.3/dist/leaflet.js&quot;&gt;&lt;/script&gt;\n",
       "    &lt;script src=&quot;https://code.jquery.com/jquery-3.7.1.min.js&quot;&gt;&lt;/script&gt;\n",
       "    &lt;script src=&quot;https://cdn.jsdelivr.net/npm/bootstrap@5.2.2/dist/js/bootstrap.bundle.min.js&quot;&gt;&lt;/script&gt;\n",
       "    &lt;script src=&quot;https://cdnjs.cloudflare.com/ajax/libs/Leaflet.awesome-markers/2.0.2/leaflet.awesome-markers.js&quot;&gt;&lt;/script&gt;\n",
       "    &lt;link rel=&quot;stylesheet&quot; href=&quot;https://cdn.jsdelivr.net/npm/leaflet@1.9.3/dist/leaflet.css&quot;/&gt;\n",
       "    &lt;link rel=&quot;stylesheet&quot; href=&quot;https://cdn.jsdelivr.net/npm/bootstrap@5.2.2/dist/css/bootstrap.min.css&quot;/&gt;\n",
       "    &lt;link rel=&quot;stylesheet&quot; href=&quot;https://netdna.bootstrapcdn.com/bootstrap/3.0.0/css/bootstrap-glyphicons.css&quot;/&gt;\n",
       "    &lt;link rel=&quot;stylesheet&quot; href=&quot;https://cdn.jsdelivr.net/npm/@fortawesome/fontawesome-free@6.2.0/css/all.min.css&quot;/&gt;\n",
       "    &lt;link rel=&quot;stylesheet&quot; href=&quot;https://cdnjs.cloudflare.com/ajax/libs/Leaflet.awesome-markers/2.0.2/leaflet.awesome-markers.css&quot;/&gt;\n",
       "    &lt;link rel=&quot;stylesheet&quot; href=&quot;https://cdn.jsdelivr.net/gh/python-visualization/folium/folium/templates/leaflet.awesome.rotate.min.css&quot;/&gt;\n",
       "    \n",
       "            &lt;meta name=&quot;viewport&quot; content=&quot;width=device-width,\n",
       "                initial-scale=1.0, maximum-scale=1.0, user-scalable=no&quot; /&gt;\n",
       "            &lt;style&gt;\n",
       "                #map_77e615b08d46cfd690abc6e60fc60cdd {\n",
       "                    position: relative;\n",
       "                    width: 100.0%;\n",
       "                    height: 100.0%;\n",
       "                    left: 0.0%;\n",
       "                    top: 0.0%;\n",
       "                }\n",
       "                .leaflet-container { font-size: 1rem; }\n",
       "            &lt;/style&gt;\n",
       "\n",
       "            &lt;style&gt;html, body {\n",
       "                width: 100%;\n",
       "                height: 100%;\n",
       "                margin: 0;\n",
       "                padding: 0;\n",
       "            }\n",
       "            &lt;/style&gt;\n",
       "\n",
       "            &lt;style&gt;#map {\n",
       "                position:absolute;\n",
       "                top:0;\n",
       "                bottom:0;\n",
       "                right:0;\n",
       "                left:0;\n",
       "                }\n",
       "            &lt;/style&gt;\n",
       "\n",
       "            &lt;script&gt;\n",
       "                L_NO_TOUCH = false;\n",
       "                L_DISABLE_3D = false;\n",
       "            &lt;/script&gt;\n",
       "\n",
       "        \n",
       "&lt;/head&gt;\n",
       "&lt;body&gt;\n",
       "    \n",
       "    \n",
       "            &lt;div class=&quot;folium-map&quot; id=&quot;map_77e615b08d46cfd690abc6e60fc60cdd&quot; &gt;&lt;/div&gt;\n",
       "        \n",
       "&lt;/body&gt;\n",
       "&lt;script&gt;\n",
       "    \n",
       "    \n",
       "            var map_77e615b08d46cfd690abc6e60fc60cdd = L.map(\n",
       "                &quot;map_77e615b08d46cfd690abc6e60fc60cdd&quot;,\n",
       "                {\n",
       "                    center: [60.64605783333333, 59.71484083333333],\n",
       "                    crs: L.CRS.EPSG3857,\n",
       "                    ...{\n",
       "  &quot;zoom&quot;: 13,\n",
       "  &quot;zoomControl&quot;: true,\n",
       "  &quot;preferCanvas&quot;: false,\n",
       "}\n",
       "\n",
       "                }\n",
       "            );\n",
       "\n",
       "            \n",
       "\n",
       "        \n",
       "    \n",
       "            var tile_layer_7bf53a9cffe8e00c37e98dc13f0b2db0 = L.tileLayer(\n",
       "                &quot;https://tile.openstreetmap.org/{z}/{x}/{y}.png&quot;,\n",
       "                {\n",
       "  &quot;minZoom&quot;: 0,\n",
       "  &quot;maxZoom&quot;: 19,\n",
       "  &quot;maxNativeZoom&quot;: 19,\n",
       "  &quot;noWrap&quot;: false,\n",
       "  &quot;attribution&quot;: &quot;\\u0026copy; \\u003ca href=\\&quot;https://www.openstreetmap.org/copyright\\&quot;\\u003eOpenStreetMap\\u003c/a\\u003e contributors&quot;,\n",
       "  &quot;subdomains&quot;: &quot;abc&quot;,\n",
       "  &quot;detectRetina&quot;: false,\n",
       "  &quot;tms&quot;: false,\n",
       "  &quot;opacity&quot;: 1,\n",
       "}\n",
       "\n",
       "            );\n",
       "        \n",
       "    \n",
       "            tile_layer_7bf53a9cffe8e00c37e98dc13f0b2db0.addTo(map_77e615b08d46cfd690abc6e60fc60cdd);\n",
       "        \n",
       "&lt;/script&gt;\n",
       "&lt;/html&gt;\" style=\"position:absolute;width:100%;height:100%;left:0;top:0;border:none !important;\" allowfullscreen webkitallowfullscreen mozallowfullscreen></iframe></div></div>"
      ],
      "text/plain": [
       "<folium.folium.Map at 0x10d619400>"
      ]
     },
     "execution_count": 11,
     "metadata": {},
     "output_type": "execute_result"
    }
   ],
   "source": [
    "m"
   ]
  },
  {
   "cell_type": "code",
   "execution_count": 12,
   "metadata": {},
   "outputs": [],
   "source": [
    "title_html = '''\n",
    "             <h3 align=\"center\" style=\"font-size:21px\"><b>Route\n",
    "             '''.format(\"Тест\")"
   ]
  },
  {
   "cell_type": "code",
   "execution_count": 13,
   "metadata": {},
   "outputs": [
    {
     "data": {
      "text/plain": [
       "<branca.element.Element at 0x10d501bd0>"
      ]
     },
     "execution_count": 13,
     "metadata": {},
     "output_type": "execute_result"
    }
   ],
   "source": [
    "m.get_root().html.add_child(folium.Element(title_html))"
   ]
  },
  {
   "cell_type": "code",
   "execution_count": 14,
   "metadata": {},
   "outputs": [],
   "source": [
    "route = folium.PolyLine(locations=xy['xy'], weight=3, color='green', opacity=0.8).add_to(m)  "
   ]
  },
  {
   "cell_type": "code",
   "execution_count": 15,
   "metadata": {},
   "outputs": [],
   "source": [
    "for i in ind:\n",
    "    if '30' in df.loc[i, 'point']:\n",
    "        folium.CircleMarker(location=df.loc[1, 'xy'], radius=2, popup=str(i)+'_'+str(df.loc[i, 'len']),)"
   ]
  },
  {
   "cell_type": "code",
   "execution_count": 16,
   "metadata": {},
   "outputs": [
    {
     "name": "stdout",
     "output_type": "stream",
     "text": [
      "Requirement already satisfied: plotly in /Library/Frameworks/Python.framework/Versions/3.13/lib/python3.13/site-packages (6.3.0)\n",
      "Requirement already satisfied: narwhals>=1.15.1 in /Library/Frameworks/Python.framework/Versions/3.13/lib/python3.13/site-packages (from plotly) (2.4.0)\n",
      "Requirement already satisfied: packaging in /Users/minkailtolabaev/Library/Python/3.13/lib/python/site-packages (from plotly) (24.2)\n"
     ]
    }
   ],
   "source": [
    "!pip install plotly"
   ]
  },
  {
   "cell_type": "code",
   "execution_count": 17,
   "metadata": {},
   "outputs": [],
   "source": [
    "import plotly.graph_objects as go\n",
    "from plotly.subplots import make_subplots"
   ]
  },
  {
   "cell_type": "code",
   "execution_count": 18,
   "metadata": {},
   "outputs": [
    {
     "data": {
      "text/plain": [
       "Index(['len', 'Скорость', 'Широта', 'Долгота', 'Высота', 'X Rotation',\n",
       "       'Y Rotation', 'Вес мгновенный', 'Уровень топлива, литры',\n",
       "       'Уровень топлива, проценты', 'путь', 'ДВС.Расход топлива',\n",
       "       'Ускорение по оси X', 'Ускорение по оси Y', 'Ускорение по оси Z',\n",
       "       'Статус самосвала', 'Самосвал', 'Модель самосвала', 'Грузоподъемность',\n",
       "       'Обороты двигателя',\n",
       "       'Расчетный выходной крутящий момент двигателя (в процентах от эталонного)',\n",
       "       'Текущая нагрузка двигателя', 'Педаль процент нажатия',\n",
       "       'Давление в левой передней шине', 'Температура в левой передней шине',\n",
       "       'Давление в правой передней шине', 'Температура в правой передней шине',\n",
       "       'Давление в левой задней внешней шине',\n",
       "       'Температура в левой задней внешней шине',\n",
       "       'Давление в левой задней внутренней шине',\n",
       "       'Температура в левой задней внутренней шине',\n",
       "       'Давление в правой задней внутренней шине',\n",
       "       'Температура в правой задней внутренней шине',\n",
       "       'Давление в правой задней внешней шине',\n",
       "       'Температура в правой задней внешней шине', 'folder', 'border_lists',\n",
       "       'время рейса', 'Расход топлива_средний', 'Расход топлива',\n",
       "       'Давление левый передний цилиндр', 'Давление правый передний цилиндр',\n",
       "       'Давление левый задний цилиндр', 'Давление правый задний цилиндр',\n",
       "       'Продольный наклон', 'Поперечный наклон', 'azimut',\n",
       "       'Давление левый передний цилиндр_', 'Давление правый передний цилиндр_',\n",
       "       'Давление левый задний цилиндр_', 'Давление правый задний цилиндр_',\n",
       "       'point', 'уровень давления впереди,МПа', 'уровень давления сзади,МПа',\n",
       "       'nom_hole', 'рекомендованная скорость_turns', 'Поворот влево',\n",
       "       'Поворот вправо', 'centr', 'radius', 'подъем', 'спуск', 'incline',\n",
       "       'рекомендованная скорость_min', 'рекомендованная скорость_max',\n",
       "       'new_slope', 'incline_', 'indicator_slope', 'mean_slope', 'shtraf',\n",
       "       'xy'],\n",
       "      dtype='object')"
      ]
     },
     "execution_count": 18,
     "metadata": {},
     "output_type": "execute_result"
    }
   ],
   "source": [
    "\n",
    "df.columns"
   ]
  },
  {
   "cell_type": "code",
   "execution_count": 26,
   "metadata": {},
   "outputs": [
    {
     "data": {
      "application/vnd.plotly.v1+json": {
       "config": {
        "plotlyServerURL": "https://plot.ly"
       },
       "data": [
        {
         "mode": "lines",
         "name": "Скорость",
         "type": "scatter",
         "x": {
          "bdata": "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",
          "dtype": "f8"
         },
         "xaxis": "x",
         "y": {
          "bdata": "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",
          "dtype": "f8"
         },
         "yaxis": "y"
        },
        {
         "mode": "lines",
         "name": "Высота",
         "type": "scatter",
         "x": {
          "bdata": "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",
          "dtype": "f8"
         },
         "xaxis": "x",
         "y": {
          "bdata": "AAAAAADgdEBmZmZmZt50QAAAAAAA4HRAzczMzMzkdECamZmZmeF0QM3MzMzM3HRAAAAAAADgdEAzMzMzM9t0QDMzMzMz23RAMzMzMzPTdECamZmZmdF0QAAAAAAA2HRAAAAAAADQdECamZmZmdF0QAAAAAAA0HRAmpmZmZnJdEDNzMzMzMR0QDMzMzMzy3RAZmZmZmbOdEAAAAAAANB0QGZmZmZm1nRAAAAAAADYdECamZmZmdl0QJqZmZmZ0XRAzczMzMzMdEAAAAAAAMh0QGZmZmZmxnRAMzMzMzPbdEDNzMzMzNx0QDMzMzMz43RAzczMzMzkdEBmZmZmZt50QJqZmZmZ4XRAzczMzMzsdEAAAAAAAPB0QJqZmZmZ6XRAAAAAAADgdEAAAAAAANh0QGZmZmZm1nRAZmZmZmbWdEAAAAAAANB0QGZmZmZm1nRAmpmZmZnZdEAAAAAAANh0QJqZmZmZ2XRAAAAAAADodEAzMzMzM/N0QDMzMzMzC3VAZmZmZmYOdUDNzMzMzBR1QM3MzMzMHHVAMzMzMzMbdUAzMzMzMxt1QJqZmZmZGXVAmpmZmZkhdUCamZmZmSF1QJqZmZmZKXVAzczMzMwsdUCamZmZmTF1QM3MzMzMLHVAMzMzMzMrdUAAAAAAACh1QJqZmZmZIXVAZmZmZmYedUDNzMzMzBR1QDMzMzMzE3VAMzMzMzMLdUBmZmZmZv50QJqZmZmZ+XRAmpmZmZkBdUAzMzMzM/t0QJqZmZmZCXVAMzMzMzMLdUAAAAAAAAh1QGZmZmZmBnVAmpmZmZkJdUBmZmZmZgZ1QGZmZmZmBnVAzczMzMz8dEDNzMzMzPx0QJqZmZmZ8XRAMzMzMzPzdEAAAAAAAPB0QJqZmZmZ8XRAzczMzMzkdEDNzMzMzNx0QGZmZmZm5nRAZmZmZmbedEBmZmZmZuZ0QM3MzMzM9HRAAAAAAAAIdUBmZmZmZhZ1QAAAAAAAIHVAMzMzMzMjdUCamZmZmSl1QJqZmZmZOXVAAAAAAABAdUAAAAAAAEh1QJqZmZmZSXVAAAAAAABYdUAAAAAAAFh1QDMzMzMzY3VAzczMzMxsdUAzMzMzM2t1QM3MzMzMZHVAmpmZmZlpdUDNzMzMzGR1QDMzMzMzW3VAmpmZmZlpdUDNzMzMzGx1QGZmZmZmbnVAzczMzMx8dUAzMzMzM4N1QM3MzMzMjHVAmpmZmZmRdUAAAAAAAKB1QAAAAAAAkHVAmpmZmZmhdUBmZmZmZq51QM3MzMzMtHVAmpmZmZm5dUAzMzMzM6t1QJqZmZmZqXVAzczMzMycdUAAAAAAAIB1QGZmZmZmfnVAzczMzMyEdUAzMzMzM3t1QJqZmZmZeXVAmpmZmZlxdUAAAAAAAGh1QM3MzMzMbHVAzczMzMxkdUDNzMzMzFx1QJqZmZmZYXVAAAAAAABwdUAzMzMzM3N1QGZmZmZmZnVAMzMzMzNrdUAzMzMzM3N1QGZmZmZmbnVAZmZmZmZmdUCamZmZmWl1QM3MzMzMbHVAZmZmZmZ2dUAzMzMzM4t1QAAAAAAAoHVAmpmZmZm5dUAAAAAAAMh1QJqZmZmZ0XVAzczMzMzUdUCamZmZmeF1QDMzMzMz63VAAAAAAAD4dUBmZmZmZg52QGZmZmZmHnZAzczMzMwkdkDNzMzMzCR2QM3MzMzMLHZAZmZmZmYudkBmZmZmZiZ2QDMzMzMzI3ZAMzMzMzMrdkAAAAAAADh2QGZmZmZmRnZAzczMzMxUdkDNzMzMzFx2QGZmZmZmZnZAzczMzMxsdkCamZmZmXl2QJqZmZmZgXZAZmZmZmaOdkCamZmZmZl2QM3MzMzMpHZAMzMzMzOrdkCamZmZmbF2QDMzMzMzs3ZAzczMzMysdkAzMzMzM7N2QAAAAAAAuHZAAAAAAADAdkBmZmZmZr52QM3MzMzMxHZAzczMzMzUdkAAAAAAAOB2QDMzMzMz63ZAmpmZmZnxdkAzMzMzM/N2QAAAAAAA+HZAAAAAAAAAd0AAAAAAAAh3QAAAAAAAEHdAZmZmZmYWd0AzMzMzMxt3QAAAAAAAIHdAZmZmZmYmd0AAAAAAADB3QGZmZmZmNndAzczMzMw8d0BmZmZmZk53QDMzMzMzW3dAZmZmZmZmd0AzMzMzM2t3QDMzMzMzc3dAAAAAAAB4d0AAAAAAAIB3QGZmZmZmhndAzczMzMyMd0BmZmZmZpZ3QJqZmZmZmXdAmpmZmZmhd0CamZmZmal3QJqZmZmZsXdAmpmZmZm5d0AAAAAAAMB3QM3MzMzMxHdAMzMzMzPLd0AAAAAAANh3QJqZmZmZ2XdAAAAAAADgd0CamZmZmel3QGZmZmZm7ndAzczMzMz0d0BmZmZmZvZ3QM3MzMzM7HdAmpmZmZnpd0CamZmZmfF3QAAAAAAA8HdAmpmZmZnxd0BmZmZmZvZ3QDMzMzMz+3dAmpmZmZn5d0CamZmZmfl3QM3MzMzM9HdAAAAAAAD4d0DNzMzMzPR3QJqZmZmZ8XdAMzMzMzPzd0AzMzMzM/t3QAAAAAAAAHhAAAAAAAAIeEBmZmZmZg54QM3MzMzMFHhAMzMzMzMbeEBmZmZmZh54QM3MzMzMLHhAzczMzMwseEAzMzMzMzN4QJqZmZmZOXhAAAAAAABAeEAAAAAAAEB4QJqZmZmZQXhAAAAAAABAeEAzMzMzM0N4QM3MzMzMPHhAMzMzMzM7eEBmZmZmZkZ4QGZmZmZmTnhAmpmZmZlpeEAAAAAAAGh4QDMzMzMzW3hAmpmZmZlZeECamZmZmVF4QM3MzMzMVHhAmpmZmZlReEAzMzMzM2N4QAAAAAAAaHhAMzMzMzN7eECamZmZmYF4QGZmZmZmhnhAzczMzMyMeEAAAAAAAJh4QAAAAAAAmHhAMzMzMzOjeECamZmZmal4QM3MzMzMrHhAZmZmZmaueEAAAAAAALh4QM3MzMzMtHhAzczMzMy0eEDNzMzMzKx4QGZmZmZmpnhAZmZmZmameEDNzMzMzKx4QDMzMzMzs3hAAAAAAAC4eEDNzMzMzMR4QGZmZmZmxnhAmpmZmZnJeECamZmZmdF4QM3MzMzM3HhAmpmZmZnheECamZmZmel4QM3MzMzM7HhAZmZmZmbueEDNzMzMzPR4QGZmZmZm9nhAZmZmZmb2eECamZmZmQF5QDMzMzMzA3lAZmZmZmYGeUAAAAAAABB5QDMzMzMzE3lAmpmZmZkReUCamZmZmRF5QAAAAAAAEHlAMzMzMzMTeUBmZmZmZhZ5QM3MzMzMJHlAZmZmZmYueUAzMzMzMzN5QGZmZmZmPnlAzczMzMxEeUBmZmZmZk55QAAAAAAAWHlAAAAAAABgeUDNzMzMzGx5QDMzMzMza3lAZmZmZmZueUBmZmZmZnZ5QAAAAAAAgHlAMzMzMzN7eUBmZmZmZn55QJqZmZmZeXlAzczMzMyEeUAAAAAAAJB5QJqZmZmZiXlAzczMzMyMeUBmZmZmZo55QAAAAAAAkHlAAAAAAACYeUCamZmZmZl5QGZmZmZmrnlAZmZmZma+eUCamZmZmcl5QJqZmZmZ0XlAzczMzMzceUAzMzMzM+t5QDMzMzMz83lAAAAAAAAAekAAAAAAAPh5QJqZmZmZ+XlAAAAAAAAAekBmZmZmZv55QM3MzMzMBHpAzczMzMwEekBmZmZmZgZ6QJqZmZmZEXpAAAAAAAAYekCamZmZmRl6QJqZmZmZGXpAmpmZmZkpekAzMzMzMyt6QM3MzMzMPHpAmpmZmZlBekBmZmZmZkZ6QM3MzMzMTHpAZmZmZmZGekAAAAAAAEh6QM3MzMzMTHpAMzMzMzNLekDNzMzMzEx6QGZmZmZmTnpAAAAAAABIekCamZmZmUl6QJqZmZmZSXpAAAAAAABQekCamZmZmVl6QJqZmZmZWXpAMzMzMzNbekAzMzMzM1t6QGZmZmZmVnpAzczMzMxkekAAAAAAAGh6QGZmZmZmZnpAMzMzMzNrekAAAAAAAHB6QGZmZmZmbnpAZmZmZmZ2ekBmZmZmZn56QAAAAAAAgHpAMzMzMzN7ekDNzMzMzHx6QDMzMzMzc3pAzczMzMxsekCamZmZmWl6QAAAAAAAaHpAAAAAAABwekDNzMzMzGR6QJqZmZmZaXpAAAAAAABoekDNzMzMzGx6QM3MzMzMbHpAZmZmZmZuekAAAAAAAHB6QM3MzMzMdHpAzczMzMxsekDNzMzMzGx6QJqZmZmZcXpAAAAAAABwekAzMzMzM3t6QGZmZmZmhnpAzczMzMyUekAzMzMzM6t6QJqZmZmZsXpAZmZmZmbGekAzMzMzM9N6QM3MzMzM3HpAZmZmZmbeekCamZmZmeF6QJqZmZmZ4XpAMzMzMzPrekAzMzMzM/t6QDMzMzMzA3tAzczMzMwUe0AAAAAAACh7QJqZmZmZMXtAzczMzMw0e0BmZmZmZj57QGZmZmZmTntAzczMzMxUe0CamZmZmVl7QAAAAAAAYHtAZmZmZmZme0AAAAAAAHB7QJqZmZmZcXtAAAAAAAB4e0AAAAAAAIB7QJqZmZmZkXtAMzMzMzObe0AAAAAAAKB7QGZmZmZmpntAZmZmZmaue0AzMzMzM7N7QAAAAAAAsHtAAAAAAACwe0BmZmZmZq57QDMzMzMzs3tAZmZmZma+e0DNzMzMzLx7QGZmZmZmvntAMzMzMzPDe0DNzMzMzMx7QJqZmZmZ2XtAZmZmZmbme0BmZmZmZu57QAAAAAAA+HtAMzMzMzMDfEBmZmZmZg58QAAAAAAAGHxAmpmZmZkhfEDNzMzMzCx8QDMzMzMzM3xAmpmZmZk5fECamZmZmTl8QGZmZmZmPnxAAAAAAABAfEAAAAAAAEh8QJqZmZmZQXxAzczMzMxEfEDNzMzMzER8QM3MzMzMRHxAZmZmZmZGfEBmZmZmZkZ8QJqZmZmZSXxAZmZmZmZOfEDNzMzMzFR8QJqZmZmZWXxAmpmZmZlZfEAAAAAAAFh8QGZmZmZmVnxAAAAAAABQfEBmZmZmZlZ8QDMzMzMzW3xAzczMzMxcfECamZmZmVl8QDMzMzMzW3xAAAAAAABYfECamZmZmVl8QDMzMzMzW3xAAAAAAABgfEDNzMzMzFx8QJqZmZmZYXxAMzMzMzNjfEDNzMzMzGR8QJqZmZmZaXxAzczMzMxkfEAzMzMzM2t8QJqZmZmZcXxAAAAAAAB4fEBmZmZmZn58QAAAAAAAiHxAzczMzMyMfEAzMzMzM5N8QDMzMzMzk3xAmpmZmZmRfEAAAAAAAJB8QM3MzMzMjHxAzczMzMyMfEAzMzMzM4t8QGZmZmZmjnxAmpmZmZmJfEAAAAAAAJB8QJqZmZmZkXxAzczMzMyMfEAzMzMzM4N8QM3MzMzMdHxAmpmZmZlxfEDNzMzMzHR8QJqZmZmZcXxAZmZmZmZ+fEDNzMzMzHx8QM3MzMzMfHxAAAAAAAB4fECamZmZmXF8QGZmZmZmbnxAzczMzMxsfEAzMzMzM2N8QM3MzMzMXHxAzczMzMxkfEAAAAAAAHB8QDMzMzMzc3xAzczMzMx0fEDNzMzMzHR8QDMzMzMzc3xAAAAAAABofEAAAAAAAGB8QDMzMzMzW3xAMzMzMzNTfEDNzMzMzER8QAAAAAAAQHxAAAAAAAA4fECamZmZmTl8QJqZmZmZQXxAzczMzMxEfECamZmZmUF8QJqZmZmZOXxAmpmZmZk5fEAAAAAAADh8QDMzMzMzM3xAAAAAAAAofECamZmZmSl8QJqZmZmZKXxAAAAAAAAwfEBmZmZmZj58QDMzMzMzS3xAAAAAAABYfEBmZmZmZlZ8QGZmZmZmXnxAmpmZmZlxfEDNzMzMzHR8QGZmZmZmfnxAzczMzMyEfECamZmZmYF8QDMzMzMzg3xAzczMzMyUfEAAAAAAAJh8QAAAAAAAmHxAZmZmZmaefEDNzMzMzJx8QAAAAAAAoHxAzczMzMykfECamZmZmal8QM3MzMzMrHxAAAAAAACwfEAAAAAAALB8QAAAAAAAqHxAmpmZmZmpfEAzMzMzM6t8QDMzMzMzq3xAAAAAAACofEBmZmZmZqZ8QJqZmZmZqXxAZmZmZmaWfEBmZmZmZo58QJqZmZmZiXxAmpmZmZmJfEAAAAAAAIB8QM3MzMzMfHxAAAAAAAB4fEBmZmZmZnZ8QM3MzMzMfHxAmpmZmZl5fECamZmZmXl8QAAAAAAAcHxAmpmZmZlxfEBmZmZmZm58QM3MzMzMZHxAZmZmZmZefEBmZmZmZlZ8QDMzMzMzW3xAAAAAAABQfEDNzMzMzER8QGZmZmZmPnxAMzMzMzM7fEBmZmZmZj58QM3MzMzMRHxAAAAAAABQfECamZmZmUF8QAAAAAAAQHxAMzMzMzNDfEDNzMzMzER8QJqZmZmZUXxAmpmZmZlRfEBmZmZmZk58QM3MzMzMTHxAAAAAAABQfEAzMzMzM0N8QAAAAAAASHxAMzMzMzNTfEAzMzMzM1t8QGZmZmZmZnxAMzMzMzNzfECamZmZmYF8QAAAAAAAkHxAAAAAAACgfECamZmZmal8QGZmZmZmrnxAMzMzMzO7fEAzMzMzM7t8QJqZmZmZwXxAMzMzMzPDfECamZmZmcl8QDMzMzMzy3xAzczMzMzEfEBmZmZmZr58QGZmZmZmxnxAMzMzMzPDfECamZmZmcF8QDMzMzMzw3xAMzMzMzPDfECamZmZmcF8QGZmZmZmvnxAzczMzMy8fEAzMzMzM7t8QGZmZmZmtnxAAAAAAACwfECamZmZmal8QM3MzMzMrHxAAAAAAACofEAzMzMzM6N8QAAAAAAAmHxAmpmZmZmJfEAAAAAAAJB8QJqZmZmZiXxAMzMzMzODfEDNzMzMzIR8QJqZmZmZgXxAZmZmZmaOfEAAAAAAAJB8QAAAAAAAmHxAMzMzMzOjfECamZmZmaF8QDMzMzMzo3xAZmZmZmamfEBmZmZmZqZ8QJqZmZmZoXxAZmZmZmaefEBmZmZmZp58QDMzMzMzm3xAMzMzMzOLfEAAAAAAAIB8QDMzMzMze3xAzczMzMx8fEBmZmZmZn58QDMzMzMzc3xAzczMzMx0fECamZmZmXl8QM3MzMzMfHxAAAAAAACAfEBmZmZmZn58QAAAAAAAgHxAmpmZmZmJfEAAAAAAAIR8QGZmZmZmjnxA",
          "dtype": "f8"
         },
         "yaxis": "y2"
        },
        {
         "mode": "lines",
         "name": "Давление левый передний цилиндр",
         "type": "scatter",
         "x": {
          "bdata": "AAAAAAAAAAAAAAAAAAAAQAAAAAAAABBAAAAAAAAAHEAAAAAAAAAiQAAAAAAAACZAAAAAAAAAKkAAAAAAAAAuQAAAAAAAADFAAAAAAAAAM0AAAAAAAAA2QAAAAAAAADlAAAAAAAAAO0AAAAAAAAA9QAAAAAAAAEBAAAAAAACAQEAAAAAAAIBBQAAAAAAAgEJAAAAAAACAQ0AAAAAAAIBEQAAAAAAAAEZAAAAAAAAAR0AAAAAAAIBHQAAAAAAAAElAAAAAAAAASkAAAAAAAIBLQAAAAAAAAExAAAAAAACATUAAAAAAAABOQAAAAAAAAE9AAAAAAAAAUEAAAAAAAIBQQAAAAAAAQFFAAAAAAADAUUAAAAAAAMBSQAAAAAAAgFNAAAAAAABAVEAAAAAAAEBVQAAAAAAAAFZAAAAAAAAAV0AAAAAAAABYQAAAAAAAAFlAAAAAAAAAWkAAAAAAAEBbQAAAAAAAQFxAAAAAAACAXUAAAAAAAMBeQAAAAAAAAGBAAAAAAACgYEAAAAAAAEBhQAAAAAAA4GFAAAAAAACgYkAAAAAAAEBjQAAAAAAA4GNAAAAAAACgZEAAAAAAAEBlQAAAAAAAAGZAAAAAAADAZkAAAAAAAIBnQAAAAAAAIGhAAAAAAADgaEAAAAAAAIBpQAAAAAAAIGpAAAAAAADgakAAAAAAAIBrQAAAAAAAQGxAAAAAAAAAbUAAAAAAAMBtQAAAAAAAgG5AAAAAAAAgb0AAAAAAAOBvQAAAAAAAUHBAAAAAAACgcEAAAAAAAABxQAAAAAAAYHFAAAAAAACwcUAAAAAAABByQAAAAAAAgHJAAAAAAADwckAAAAAAAFBzQAAAAAAAwHNAAAAAAAAwdEAAAAAAAKB0QAAAAAAAEHVAAAAAAACAdUAAAAAAAAB2QAAAAAAAgHZAAAAAAADwdkAAAAAAAGB3QAAAAAAAwHdAAAAAAAAgeEAAAAAAAIB4QAAAAAAA0HhAAAAAAAAgeUAAAAAAAGB5QAAAAAAAsHlAAAAAAADweUAAAAAAADB6QAAAAAAAcHpAAAAAAACwekAAAAAAAPB6QAAAAAAAMHtAAAAAAABwe0AAAAAAALB7QAAAAAAA8HtAAAAAAABAfEAAAAAAAKB8QAAAAAAA8HxAAAAAAABgfUAAAAAAAMB9QAAAAAAAIH5AAAAAAACAfkAAAAAAAPB+QAAAAAAAUH9AAAAAAACwf0AAAAAAAAiAQAAAAAAAQIBAAAAAAAB4gEAAAAAAAKiAQAAAAAAA2IBAAAAAAAAIgUAAAAAAADCBQAAAAAAAWIFAAAAAAACAgUAAAAAAAKiBQAAAAAAA0IFAAAAAAAD4gUAAAAAAACCCQAAAAAAAUIJAAAAAAABogkAAAAAAAHCCQAAAAAAAiIJAAAAAAACYgkAAAAAAAKiCQAAAAAAAwIJAAAAAAADQgkAAAAAAANiCQAAAAAAA6IJAAAAAAAAAg0AAAAAAABiDQAAAAAAAOINAAAAAAABYg0AAAAAAAJiDQAAAAAAAwINAAAAAAADgg0AAAAAAAACEQAAAAAAAKIRAAAAAAABQhEAAAAAAAHiEQAAAAAAAmIRAAAAAAAC4hEAAAAAAANiEQAAAAAAA+IRAAAAAAAAYhUAAAAAAADiFQAAAAAAAWIVAAAAAAABwhUAAAAAAAJCFQAAAAAAAsIVAAAAAAADQhUAAAAAAAPiFQAAAAAAAIIZAAAAAAABIhkAAAAAAAHCGQAAAAAAAmIZAAAAAAADAhkAAAAAAAPCGQAAAAAAAGIdAAAAAAABAh0AAAAAAAGiHQAAAAAAAkIdAAAAAAACwh0AAAAAAANCHQAAAAAAA+IdAAAAAAAAgiEAAAAAAAECIQAAAAAAAYIhAAAAAAACAiEAAAAAAAKCIQAAAAAAAyIhAAAAAAADoiEAAAAAAAAiJQAAAAAAAKIlAAAAAAABIiUAAAAAAAHCJQAAAAAAAkIlAAAAAAACwiUAAAAAAANiJQAAAAAAA+IlAAAAAAAAgikAAAAAAAECKQAAAAAAAaIpAAAAAAACQikAAAAAAALiKQAAAAAAA4IpAAAAAAAAAi0AAAAAAACiLQAAAAAAAUItAAAAAAAB4i0AAAAAAAKCLQAAAAAAAyItAAAAAAADwi0AAAAAAABCMQAAAAAAAOIxAAAAAAABYjEAAAAAAAICMQAAAAAAAqIxAAAAAAADQjEAAAAAAAPiMQAAAAAAAGI1AAAAAAABAjUAAAAAAAGCNQAAAAAAAiI1AAAAAAACojUAAAAAAAMiNQAAAAAAA6I1AAAAAAAAQjkAAAAAAADCOQAAAAAAAUI5AAAAAAABwjkAAAAAAAJiOQAAAAAAAuI5AAAAAAADgjkAAAAAAAAiPQAAAAAAAOI9AAAAAAABwj0AAAAAAAKiPQAAAAAAA4I9AAAAAAAAMkEAAAAAAACiQQAAAAAAASJBAAAAAAABkkEAAAAAAAISQQAAAAAAAoJBAAAAAAAC8kEAAAAAAANiQQAAAAAAA9JBAAAAAAAAMkUAAAAAAACiRQAAAAAAAQJFAAAAAAABYkUAAAAAAAHCRQAAAAAAAiJFAAAAAAACgkUAAAAAAALyRQAAAAAAA1JFAAAAAAADskUAAAAAAAAiSQAAAAAAAIJJAAAAAAAA4kkAAAAAAAFCSQAAAAAAAaJJAAAAAAACEkkAAAAAAAJySQAAAAAAAtJJAAAAAAADMkkAAAAAAAOSSQAAAAAAA/JJAAAAAAAAck0AAAAAAADSTQAAAAAAATJNAAAAAAABok0AAAAAAAICTQAAAAAAAnJNAAAAAAAC4k0AAAAAAAOiTQAAAAAAABJRAAAAAAAAglEAAAAAAADiUQAAAAAAAUJRAAAAAAABslEAAAAAAAISUQAAAAAAAmJRAAAAAAAC0lEAAAAAAAMyUQAAAAAAA5JRAAAAAAAD8lEAAAAAAABSVQAAAAAAALJVAAAAAAABElUAAAAAAAFyVQAAAAAAAbJVAAAAAAACAlUAAAAAAAJiVQAAAAAAAtJVAAAAAAADIlUAAAAAAAOCVQAAAAAAA9JVAAAAAAAAMlkAAAAAAACCWQAAAAAAAOJZAAAAAAABMlkAAAAAAAGSWQAAAAAAAeJZAAAAAAACQlkAAAAAAAKiWQAAAAAAAwJZAAAAAAADYlkAAAAAAAPCWQAAAAAAABJdAAAAAAAAcl0AAAAAAADSXQAAAAAAASJdAAAAAAABgl0AAAAAAAHiXQAAAAAAAkJdAAAAAAACol0AAAAAAALyXQAAAAAAA2JdAAAAAAADwl0AAAAAAAAiYQAAAAAAAIJhAAAAAAAA4mEAAAAAAAFCYQAAAAAAAbJhAAAAAAACEmEAAAAAAAJyYQAAAAAAAtJhAAAAAAADImEAAAAAAAOCYQAAAAAAA/JhAAAAAAAAUmUAAAAAAACyZQAAAAAAAQJlAAAAAAABYmUAAAAAAAHCZQAAAAAAAhJlAAAAAAACcmUAAAAAAALSZQAAAAAAAzJlAAAAAAADomUAAAAAAAACaQAAAAAAAGJpAAAAAAAA0mkAAAAAAAEyaQAAAAAAAaJpAAAAAAACAmkAAAAAAAJyaQAAAAAAAtJpAAAAAAADMmkAAAAAAAOSaQAAAAAAA/JpAAAAAAAAUm0AAAAAAACibQAAAAAAAQJtAAAAAAABUm0AAAAAAAGybQAAAAAAAhJtAAAAAAACYm0AAAAAAALCbQAAAAAAAxJtAAAAAAADgm0AAAAAAAPibQAAAAAAAEJxAAAAAAAAsnEAAAAAAAEicQAAAAAAAZJxAAAAAAACAnEAAAAAAAJycQAAAAAAAuJxAAAAAAADUnEAAAAAAAPCcQAAAAAAACJ1AAAAAAAAknUAAAAAAADydQAAAAAAAWJ1AAAAAAABsnUAAAAAAAIidQAAAAAAAoJ1AAAAAAAC4nUAAAAAAANCdQAAAAAAA6J1AAAAAAAAAnkAAAAAAABieQAAAAAAAMJ5AAAAAAABInkAAAAAAAGCeQAAAAAAAfJ5AAAAAAACUnkAAAAAAAKieQAAAAAAAwJ5AAAAAAADcnkAAAAAAAPSeQAAAAAAACJ9AAAAAAAAkn0AAAAAAADyfQAAAAAAAWJ9AAAAAAAB0n0AAAAAAAIyfQAAAAAAApJ9AAAAAAAC8n0AAAAAAANSfQAAAAAAA7J9AAAAAAAAEoEAAAAAAABCgQAAAAAAAHqBAAAAAAAAqoEAAAAAAADagQAAAAAAARKBAAAAAAABQoEAAAAAAAF6gQAAAAAAAbKBAAAAAAAB4oEAAAAAAAJKgQAAAAAAAoKBAAAAAAACsoEAAAAAAALqgQAAAAAAAyKBAAAAAAADUoEAAAAAAAOCgQAAAAAAA7qBAAAAAAAD6oEAAAAAAAAihQAAAAAAAFKFAAAAAAAAgoUAAAAAAACqhQAAAAAAANKFAAAAAAAA8oUAAAAAAAEahQAAAAAAAUKFAAAAAAABaoUAAAAAAAGKhQAAAAAAAaqFAAAAAAAB0oUAAAAAAAHyhQAAAAAAAhKFAAAAAAACOoUAAAAAAAJihQAAAAAAAoqFAAAAAAACuoUAAAAAAALihQAAAAAAAwqFAAAAAAADOoUAAAAAAANihQAAAAAAA4qFAAAAAAADsoUAAAAAAAPahQAAAAAAAAKJAAAAAAAAKokAAAAAAABSiQAAAAAAAIKJAAAAAAAAqokAAAAAAADSiQAAAAAAAQKJAAAAAAABMokAAAAAAAFaiQAAAAAAAYqJAAAAAAABsokAAAAAAAHiiQAAAAAAAgqJAAAAAAACOokAAAAAAAJiiQAAAAAAApKJAAAAAAACuokAAAAAAALqiQAAAAAAAxKJAAAAAAADOokAAAAAAANiiQAAAAAAA5KJAAAAAAADwokAAAAAAAPqiQAAAAAAACKNAAAAAAAAUo0AAAAAAACCjQAAAAAAALqNAAAAAAAA6o0AAAAAAAEijQAAAAAAAVqNAAAAAAABmo0AAAAAAAHSjQAAAAAAAgqNAAAAAAACSo0AAAAAAAKKjQAAAAAAAsKNAAAAAAADAo0AAAAAAANCjQAAAAAAA4KNAAAAAAADyo0AAAAAAAAKkQAAAAAAAEqRAAAAAAAAipEAAAAAAADSkQAAAAAAARKRAAAAAAABWpEAAAAAAAGakQAAAAAAAeKRAAAAAAACIpEAAAAAAAJqkQAAAAAAAqqRAAAAAAAC8pEAAAAAAAM6kQAAAAAAA4KRAAAAAAADwpEAAAAAAAAKlQAAAAAAAEqVAAAAAAAAkpUAAAAAAADalQAAAAAAARqVAAAAAAABYpUAAAAAAAGilQAAAAAAAeqVAAAAAAACKpUAAAAAAAJylQAAAAAAArqVAAAAAAAC+pUAAAAAAANKlQAAAAAAA5qVAAAAAAAD6pUAAAAAAAA6mQAAAAAAAIqZAAAAAAAA2pkAAAAAAAEqmQAAAAAAAXqZAAAAAAABypkAAAAAAAIamQAAAAAAAmKZAAAAAAADApkAAAAAAANKmQAAAAAAA5KZAAAAAAAD4pkAAAAAAAAynQAAAAAAAIKdAAAAAAAA0p0AAAAAAAEinQAAAAAAAXKdAAAAAAAByp0AAAAAAAIanQAAAAAAAnKdAAAAAAACyp0AAAAAAAMinQAAAAAAA3qdAAAAAAAD0p0AAAAAAAAyoQAAAAAAAJKhAAAAAAAA8qEAAAAAAAFCoQAAAAAAAZqhAAAAAAAB6qEAAAAAAAIyoQAAAAAAAoKhAAAAAAACyqEAAAAAAAMaoQAAAAAAA2KhAAAAAAADqqEAAAAAAAPyoQAAAAAAADKlAAAAAAAAcqUAAAAAAACipQAAAAAAANqlAAAAAAABEqUAAAAAAAFCpQAAAAAAAXqlAAAAAAABsqUAAAAAAAHqpQAAAAAAAiKlAAAAAAACeqUAAAAAAALSpQAAAAAAAwqlAAAAAAADSqUAAAAAAAOCpQAAAAAAA7qlAAAAAAAD+qUAAAAAAAAyqQAAAAAAAHKpAAAAAAAAsqkAAAAAAADqqQAAAAAAASKpAAAAAAABYqkAAAAAAAGaqQAAAAAAAdKpAAAAAAACAqkAAAAAAAI6qQAAAAAAAnKpAAAAAAACoqkAAAAAAALaqQAAAAAAAxKpAAAAAAADSqkAAAAAAAN6qQAAAAAAA7KpAAAAAAAD6qkAAAAAAAAirQAAAAAAAFqtAAAAAAAAkq0AAAAAAADSrQAAAAAAAQqtAAAAAAABSq0AAAAAAAGCrQAAAAAAAcKtAAAAAAACAq0AAAAAAAJCrQAAAAAAAoKtAAAAAAACwq0AAAAAAAMCrQAAAAAAAzqtAAAAAAADeq0AAAAAAAO6rQAAAAAAA/qtAAAAAAAAMrEAAAAAAABysQAAAAAAALKxAAAAAAAA+rEAAAAAAAE6sQAAAAAAAYKxAAAAAAABwrEAAAAAAAIKsQAAAAAAAlKxAAAAAAACorEAAAAAAALqsQAAAAAAAzqxAAAAAAADgrEAAAAAAAPCsQAAAAAAAAK1AAAAAAAAQrUAAAAAAACCtQAAAAAAALq1AAAAAAAA+rUAAAAAAAE6tQAAAAAAAXK1AAAAAAABsrUAAAAAAAHqtQAAAAAAAiq1AAAAAAACYrUAAAAAAAKitQAAAAAAAuK1AAAAAAADIrUAAAAAAANatQAAAAAAA5q1AAAAAAAD0rUAAAAAAAAKuQAAAAAAAEK5AAAAAAAAerkAAAAAAACyuQAAAAAAAOq5AAAAAAABIrkAAAAAAAFSuQAAAAAAAYq5AAAAAAABurkAAAAAAAHquQAAAAAAAhq5AAAAAAACSrkAAAAAAAJ6uQAAAAAAArK5AAAAAAAC4rkAAAAAAANKuQAAAAAAA3q5AAAAAAADorkAAAAAAAPKuQAAAAAAA/q5AAAAAAAAIr0AAAAAAABKvQAAAAAAAHq9AAAAAAAAmr0AAAAAAAC6vQAAAAAAANq9AAAAAAAA8r0AAAAAAAEKvQAAAAAAASK9AAAAAAABOr0AAAAAAAFKvQAAAAAAAWK9AAAAAAABar0AAAAAAAFyvQAAAAAAAYK9AAAAAAABir0AAAAAAAGSvQAAAAAAAaK9AAAAAAABsr0AAAAAAAG6vQAAAAAAAcK9AAAAAAAByr0AAAAAAAHSvQAAAAAAAdq9AAAAAAAB4r0AAAAAAAHqvQAAAAAAAfK9A",
          "dtype": "f8"
         },
         "xaxis": "x",
         "y": {
          "bdata": "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",
          "dtype": "f8"
         },
         "yaxis": "y2"
        },
        {
         "mode": "lines",
         "name": "Давление левый передний цилиндр_",
         "type": "scatter",
         "x": {
          "bdata": "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",
          "dtype": "f8"
         },
         "xaxis": "x",
         "y": {
          "bdata": "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",
          "dtype": "f8"
         },
         "yaxis": "y2"
        },
        {
         "mode": "lines",
         "name": "уровень давления впереди,МПа",
         "type": "scatter",
         "x": {
          "bdata": "AAAAAAAAAAAAAAAAAAAAQAAAAAAAABBAAAAAAAAAHEAAAAAAAAAiQAAAAAAAACZAAAAAAAAAKkAAAAAAAAAuQAAAAAAAADFAAAAAAAAAM0AAAAAAAAA2QAAAAAAAADlAAAAAAAAAO0AAAAAAAAA9QAAAAAAAAEBAAAAAAACAQEAAAAAAAIBBQAAAAAAAgEJAAAAAAACAQ0AAAAAAAIBEQAAAAAAAAEZAAAAAAAAAR0AAAAAAAIBHQAAAAAAAAElAAAAAAAAASkAAAAAAAIBLQAAAAAAAAExAAAAAAACATUAAAAAAAABOQAAAAAAAAE9AAAAAAAAAUEAAAAAAAIBQQAAAAAAAQFFAAAAAAADAUUAAAAAAAMBSQAAAAAAAgFNAAAAAAABAVEAAAAAAAEBVQAAAAAAAAFZAAAAAAAAAV0AAAAAAAABYQAAAAAAAAFlAAAAAAAAAWkAAAAAAAEBbQAAAAAAAQFxAAAAAAACAXUAAAAAAAMBeQAAAAAAAAGBAAAAAAACgYEAAAAAAAEBhQAAAAAAA4GFAAAAAAACgYkAAAAAAAEBjQAAAAAAA4GNAAAAAAACgZEAAAAAAAEBlQAAAAAAAAGZAAAAAAADAZkAAAAAAAIBnQAAAAAAAIGhAAAAAAADgaEAAAAAAAIBpQAAAAAAAIGpAAAAAAADgakAAAAAAAIBrQAAAAAAAQGxAAAAAAAAAbUAAAAAAAMBtQAAAAAAAgG5AAAAAAAAgb0AAAAAAAOBvQAAAAAAAUHBAAAAAAACgcEAAAAAAAABxQAAAAAAAYHFAAAAAAACwcUAAAAAAABByQAAAAAAAgHJAAAAAAADwckAAAAAAAFBzQAAAAAAAwHNAAAAAAAAwdEAAAAAAAKB0QAAAAAAAEHVAAAAAAACAdUAAAAAAAAB2QAAAAAAAgHZAAAAAAADwdkAAAAAAAGB3QAAAAAAAwHdAAAAAAAAgeEAAAAAAAIB4QAAAAAAA0HhAAAAAAAAgeUAAAAAAAGB5QAAAAAAAsHlAAAAAAADweUAAAAAAADB6QAAAAAAAcHpAAAAAAACwekAAAAAAAPB6QAAAAAAAMHtAAAAAAABwe0AAAAAAALB7QAAAAAAA8HtAAAAAAABAfEAAAAAAAKB8QAAAAAAA8HxAAAAAAABgfUAAAAAAAMB9QAAAAAAAIH5AAAAAAACAfkAAAAAAAPB+QAAAAAAAUH9AAAAAAACwf0AAAAAAAAiAQAAAAAAAQIBAAAAAAAB4gEAAAAAAAKiAQAAAAAAA2IBAAAAAAAAIgUAAAAAAADCBQAAAAAAAWIFAAAAAAACAgUAAAAAAAKiBQAAAAAAA0IFAAAAAAAD4gUAAAAAAACCCQAAAAAAAUIJAAAAAAABogkAAAAAAAHCCQAAAAAAAiIJAAAAAAACYgkAAAAAAAKiCQAAAAAAAwIJAAAAAAADQgkAAAAAAANiCQAAAAAAA6IJAAAAAAAAAg0AAAAAAABiDQAAAAAAAOINAAAAAAABYg0AAAAAAAJiDQAAAAAAAwINAAAAAAADgg0AAAAAAAACEQAAAAAAAKIRAAAAAAABQhEAAAAAAAHiEQAAAAAAAmIRAAAAAAAC4hEAAAAAAANiEQAAAAAAA+IRAAAAAAAAYhUAAAAAAADiFQAAAAAAAWIVAAAAAAABwhUAAAAAAAJCFQAAAAAAAsIVAAAAAAADQhUAAAAAAAPiFQAAAAAAAIIZAAAAAAABIhkAAAAAAAHCGQAAAAAAAmIZAAAAAAADAhkAAAAAAAPCGQAAAAAAAGIdAAAAAAABAh0AAAAAAAGiHQAAAAAAAkIdAAAAAAACwh0AAAAAAANCHQAAAAAAA+IdAAAAAAAAgiEAAAAAAAECIQAAAAAAAYIhAAAAAAACAiEAAAAAAAKCIQAAAAAAAyIhAAAAAAADoiEAAAAAAAAiJQAAAAAAAKIlAAAAAAABIiUAAAAAAAHCJQAAAAAAAkIlAAAAAAACwiUAAAAAAANiJQAAAAAAA+IlAAAAAAAAgikAAAAAAAECKQAAAAAAAaIpAAAAAAACQikAAAAAAALiKQAAAAAAA4IpAAAAAAAAAi0AAAAAAACiLQAAAAAAAUItAAAAAAAB4i0AAAAAAAKCLQAAAAAAAyItAAAAAAADwi0AAAAAAABCMQAAAAAAAOIxAAAAAAABYjEAAAAAAAICMQAAAAAAAqIxAAAAAAADQjEAAAAAAAPiMQAAAAAAAGI1AAAAAAABAjUAAAAAAAGCNQAAAAAAAiI1AAAAAAACojUAAAAAAAMiNQAAAAAAA6I1AAAAAAAAQjkAAAAAAADCOQAAAAAAAUI5AAAAAAABwjkAAAAAAAJiOQAAAAAAAuI5AAAAAAADgjkAAAAAAAAiPQAAAAAAAOI9AAAAAAABwj0AAAAAAAKiPQAAAAAAA4I9AAAAAAAAMkEAAAAAAACiQQAAAAAAASJBAAAAAAABkkEAAAAAAAISQQAAAAAAAoJBAAAAAAAC8kEAAAAAAANiQQAAAAAAA9JBAAAAAAAAMkUAAAAAAACiRQAAAAAAAQJFAAAAAAABYkUAAAAAAAHCRQAAAAAAAiJFAAAAAAACgkUAAAAAAALyRQAAAAAAA1JFAAAAAAADskUAAAAAAAAiSQAAAAAAAIJJAAAAAAAA4kkAAAAAAAFCSQAAAAAAAaJJAAAAAAACEkkAAAAAAAJySQAAAAAAAtJJAAAAAAADMkkAAAAAAAOSSQAAAAAAA/JJAAAAAAAAck0AAAAAAADSTQAAAAAAATJNAAAAAAABok0AAAAAAAICTQAAAAAAAnJNAAAAAAAC4k0AAAAAAAOiTQAAAAAAABJRAAAAAAAAglEAAAAAAADiUQAAAAAAAUJRAAAAAAABslEAAAAAAAISUQAAAAAAAmJRAAAAAAAC0lEAAAAAAAMyUQAAAAAAA5JRAAAAAAAD8lEAAAAAAABSVQAAAAAAALJVAAAAAAABElUAAAAAAAFyVQAAAAAAAbJVAAAAAAACAlUAAAAAAAJiVQAAAAAAAtJVAAAAAAADIlUAAAAAAAOCVQAAAAAAA9JVAAAAAAAAMlkAAAAAAACCWQAAAAAAAOJZAAAAAAABMlkAAAAAAAGSWQAAAAAAAeJZAAAAAAACQlkAAAAAAAKiWQAAAAAAAwJZAAAAAAADYlkAAAAAAAPCWQAAAAAAABJdAAAAAAAAcl0AAAAAAADSXQAAAAAAASJdAAAAAAABgl0AAAAAAAHiXQAAAAAAAkJdAAAAAAACol0AAAAAAALyXQAAAAAAA2JdAAAAAAADwl0AAAAAAAAiYQAAAAAAAIJhAAAAAAAA4mEAAAAAAAFCYQAAAAAAAbJhAAAAAAACEmEAAAAAAAJyYQAAAAAAAtJhAAAAAAADImEAAAAAAAOCYQAAAAAAA/JhAAAAAAAAUmUAAAAAAACyZQAAAAAAAQJlAAAAAAABYmUAAAAAAAHCZQAAAAAAAhJlAAAAAAACcmUAAAAAAALSZQAAAAAAAzJlAAAAAAADomUAAAAAAAACaQAAAAAAAGJpAAAAAAAA0mkAAAAAAAEyaQAAAAAAAaJpAAAAAAACAmkAAAAAAAJyaQAAAAAAAtJpAAAAAAADMmkAAAAAAAOSaQAAAAAAA/JpAAAAAAAAUm0AAAAAAACibQAAAAAAAQJtAAAAAAABUm0AAAAAAAGybQAAAAAAAhJtAAAAAAACYm0AAAAAAALCbQAAAAAAAxJtAAAAAAADgm0AAAAAAAPibQAAAAAAAEJxAAAAAAAAsnEAAAAAAAEicQAAAAAAAZJxAAAAAAACAnEAAAAAAAJycQAAAAAAAuJxAAAAAAADUnEAAAAAAAPCcQAAAAAAACJ1AAAAAAAAknUAAAAAAADydQAAAAAAAWJ1AAAAAAABsnUAAAAAAAIidQAAAAAAAoJ1AAAAAAAC4nUAAAAAAANCdQAAAAAAA6J1AAAAAAAAAnkAAAAAAABieQAAAAAAAMJ5AAAAAAABInkAAAAAAAGCeQAAAAAAAfJ5AAAAAAACUnkAAAAAAAKieQAAAAAAAwJ5AAAAAAADcnkAAAAAAAPSeQAAAAAAACJ9AAAAAAAAkn0AAAAAAADyfQAAAAAAAWJ9AAAAAAAB0n0AAAAAAAIyfQAAAAAAApJ9AAAAAAAC8n0AAAAAAANSfQAAAAAAA7J9AAAAAAAAEoEAAAAAAABCgQAAAAAAAHqBAAAAAAAAqoEAAAAAAADagQAAAAAAARKBAAAAAAABQoEAAAAAAAF6gQAAAAAAAbKBAAAAAAAB4oEAAAAAAAJKgQAAAAAAAoKBAAAAAAACsoEAAAAAAALqgQAAAAAAAyKBAAAAAAADUoEAAAAAAAOCgQAAAAAAA7qBAAAAAAAD6oEAAAAAAAAihQAAAAAAAFKFAAAAAAAAgoUAAAAAAACqhQAAAAAAANKFAAAAAAAA8oUAAAAAAAEahQAAAAAAAUKFAAAAAAABaoUAAAAAAAGKhQAAAAAAAaqFAAAAAAAB0oUAAAAAAAHyhQAAAAAAAhKFAAAAAAACOoUAAAAAAAJihQAAAAAAAoqFAAAAAAACuoUAAAAAAALihQAAAAAAAwqFAAAAAAADOoUAAAAAAANihQAAAAAAA4qFAAAAAAADsoUAAAAAAAPahQAAAAAAAAKJAAAAAAAAKokAAAAAAABSiQAAAAAAAIKJAAAAAAAAqokAAAAAAADSiQAAAAAAAQKJAAAAAAABMokAAAAAAAFaiQAAAAAAAYqJAAAAAAABsokAAAAAAAHiiQAAAAAAAgqJAAAAAAACOokAAAAAAAJiiQAAAAAAApKJAAAAAAACuokAAAAAAALqiQAAAAAAAxKJAAAAAAADOokAAAAAAANiiQAAAAAAA5KJAAAAAAADwokAAAAAAAPqiQAAAAAAACKNAAAAAAAAUo0AAAAAAACCjQAAAAAAALqNAAAAAAAA6o0AAAAAAAEijQAAAAAAAVqNAAAAAAABmo0AAAAAAAHSjQAAAAAAAgqNAAAAAAACSo0AAAAAAAKKjQAAAAAAAsKNAAAAAAADAo0AAAAAAANCjQAAAAAAA4KNAAAAAAADyo0AAAAAAAAKkQAAAAAAAEqRAAAAAAAAipEAAAAAAADSkQAAAAAAARKRAAAAAAABWpEAAAAAAAGakQAAAAAAAeKRAAAAAAACIpEAAAAAAAJqkQAAAAAAAqqRAAAAAAAC8pEAAAAAAAM6kQAAAAAAA4KRAAAAAAADwpEAAAAAAAAKlQAAAAAAAEqVAAAAAAAAkpUAAAAAAADalQAAAAAAARqVAAAAAAABYpUAAAAAAAGilQAAAAAAAeqVAAAAAAACKpUAAAAAAAJylQAAAAAAArqVAAAAAAAC+pUAAAAAAANKlQAAAAAAA5qVAAAAAAAD6pUAAAAAAAA6mQAAAAAAAIqZAAAAAAAA2pkAAAAAAAEqmQAAAAAAAXqZAAAAAAABypkAAAAAAAIamQAAAAAAAmKZAAAAAAADApkAAAAAAANKmQAAAAAAA5KZAAAAAAAD4pkAAAAAAAAynQAAAAAAAIKdAAAAAAAA0p0AAAAAAAEinQAAAAAAAXKdAAAAAAAByp0AAAAAAAIanQAAAAAAAnKdAAAAAAACyp0AAAAAAAMinQAAAAAAA3qdAAAAAAAD0p0AAAAAAAAyoQAAAAAAAJKhAAAAAAAA8qEAAAAAAAFCoQAAAAAAAZqhAAAAAAAB6qEAAAAAAAIyoQAAAAAAAoKhAAAAAAACyqEAAAAAAAMaoQAAAAAAA2KhAAAAAAADqqEAAAAAAAPyoQAAAAAAADKlAAAAAAAAcqUAAAAAAACipQAAAAAAANqlAAAAAAABEqUAAAAAAAFCpQAAAAAAAXqlAAAAAAABsqUAAAAAAAHqpQAAAAAAAiKlAAAAAAACeqUAAAAAAALSpQAAAAAAAwqlAAAAAAADSqUAAAAAAAOCpQAAAAAAA7qlAAAAAAAD+qUAAAAAAAAyqQAAAAAAAHKpAAAAAAAAsqkAAAAAAADqqQAAAAAAASKpAAAAAAABYqkAAAAAAAGaqQAAAAAAAdKpAAAAAAACAqkAAAAAAAI6qQAAAAAAAnKpAAAAAAACoqkAAAAAAALaqQAAAAAAAxKpAAAAAAADSqkAAAAAAAN6qQAAAAAAA7KpAAAAAAAD6qkAAAAAAAAirQAAAAAAAFqtAAAAAAAAkq0AAAAAAADSrQAAAAAAAQqtAAAAAAABSq0AAAAAAAGCrQAAAAAAAcKtAAAAAAACAq0AAAAAAAJCrQAAAAAAAoKtAAAAAAACwq0AAAAAAAMCrQAAAAAAAzqtAAAAAAADeq0AAAAAAAO6rQAAAAAAA/qtAAAAAAAAMrEAAAAAAABysQAAAAAAALKxAAAAAAAA+rEAAAAAAAE6sQAAAAAAAYKxAAAAAAABwrEAAAAAAAIKsQAAAAAAAlKxAAAAAAACorEAAAAAAALqsQAAAAAAAzqxAAAAAAADgrEAAAAAAAPCsQAAAAAAAAK1AAAAAAAAQrUAAAAAAACCtQAAAAAAALq1AAAAAAAA+rUAAAAAAAE6tQAAAAAAAXK1AAAAAAABsrUAAAAAAAHqtQAAAAAAAiq1AAAAAAACYrUAAAAAAAKitQAAAAAAAuK1AAAAAAADIrUAAAAAAANatQAAAAAAA5q1AAAAAAAD0rUAAAAAAAAKuQAAAAAAAEK5AAAAAAAAerkAAAAAAACyuQAAAAAAAOq5AAAAAAABIrkAAAAAAAFSuQAAAAAAAYq5AAAAAAABurkAAAAAAAHquQAAAAAAAhq5AAAAAAACSrkAAAAAAAJ6uQAAAAAAArK5AAAAAAAC4rkAAAAAAANKuQAAAAAAA3q5AAAAAAADorkAAAAAAAPKuQAAAAAAA/q5AAAAAAAAIr0AAAAAAABKvQAAAAAAAHq9AAAAAAAAmr0AAAAAAAC6vQAAAAAAANq9AAAAAAAA8r0AAAAAAAEKvQAAAAAAASK9AAAAAAABOr0AAAAAAAFKvQAAAAAAAWK9AAAAAAABar0AAAAAAAFyvQAAAAAAAYK9AAAAAAABir0AAAAAAAGSvQAAAAAAAaK9AAAAAAABsr0AAAAAAAG6vQAAAAAAAcK9AAAAAAAByr0AAAAAAAHSvQAAAAAAAdq9AAAAAAAB4r0AAAAAAAHqvQAAAAAAAfK9A",
          "dtype": "f8"
         },
         "xaxis": "x",
         "y": {
          "bdata": "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",
          "dtype": "f8"
         },
         "yaxis": "y2"
        }
       ],
       "layout": {
        "template": {
         "data": {
          "bar": [
           {
            "error_x": {
             "color": "#2a3f5f"
            },
            "error_y": {
             "color": "#2a3f5f"
            },
            "marker": {
             "line": {
              "color": "#E5ECF6",
              "width": 0.5
             },
             "pattern": {
              "fillmode": "overlay",
              "size": 10,
              "solidity": 0.2
             }
            },
            "type": "bar"
           }
          ],
          "barpolar": [
           {
            "marker": {
             "line": {
              "color": "#E5ECF6",
              "width": 0.5
             },
             "pattern": {
              "fillmode": "overlay",
              "size": 10,
              "solidity": 0.2
             }
            },
            "type": "barpolar"
           }
          ],
          "carpet": [
           {
            "aaxis": {
             "endlinecolor": "#2a3f5f",
             "gridcolor": "white",
             "linecolor": "white",
             "minorgridcolor": "white",
             "startlinecolor": "#2a3f5f"
            },
            "baxis": {
             "endlinecolor": "#2a3f5f",
             "gridcolor": "white",
             "linecolor": "white",
             "minorgridcolor": "white",
             "startlinecolor": "#2a3f5f"
            },
            "type": "carpet"
           }
          ],
          "choropleth": [
           {
            "colorbar": {
             "outlinewidth": 0,
             "ticks": ""
            },
            "type": "choropleth"
           }
          ],
          "contour": [
           {
            "colorbar": {
             "outlinewidth": 0,
             "ticks": ""
            },
            "colorscale": [
             [
              0,
              "#0d0887"
             ],
             [
              0.1111111111111111,
              "#46039f"
             ],
             [
              0.2222222222222222,
              "#7201a8"
             ],
             [
              0.3333333333333333,
              "#9c179e"
             ],
             [
              0.4444444444444444,
              "#bd3786"
             ],
             [
              0.5555555555555556,
              "#d8576b"
             ],
             [
              0.6666666666666666,
              "#ed7953"
             ],
             [
              0.7777777777777778,
              "#fb9f3a"
             ],
             [
              0.8888888888888888,
              "#fdca26"
             ],
             [
              1,
              "#f0f921"
             ]
            ],
            "type": "contour"
           }
          ],
          "contourcarpet": [
           {
            "colorbar": {
             "outlinewidth": 0,
             "ticks": ""
            },
            "type": "contourcarpet"
           }
          ],
          "heatmap": [
           {
            "colorbar": {
             "outlinewidth": 0,
             "ticks": ""
            },
            "colorscale": [
             [
              0,
              "#0d0887"
             ],
             [
              0.1111111111111111,
              "#46039f"
             ],
             [
              0.2222222222222222,
              "#7201a8"
             ],
             [
              0.3333333333333333,
              "#9c179e"
             ],
             [
              0.4444444444444444,
              "#bd3786"
             ],
             [
              0.5555555555555556,
              "#d8576b"
             ],
             [
              0.6666666666666666,
              "#ed7953"
             ],
             [
              0.7777777777777778,
              "#fb9f3a"
             ],
             [
              0.8888888888888888,
              "#fdca26"
             ],
             [
              1,
              "#f0f921"
             ]
            ],
            "type": "heatmap"
           }
          ],
          "histogram": [
           {
            "marker": {
             "pattern": {
              "fillmode": "overlay",
              "size": 10,
              "solidity": 0.2
             }
            },
            "type": "histogram"
           }
          ],
          "histogram2d": [
           {
            "colorbar": {
             "outlinewidth": 0,
             "ticks": ""
            },
            "colorscale": [
             [
              0,
              "#0d0887"
             ],
             [
              0.1111111111111111,
              "#46039f"
             ],
             [
              0.2222222222222222,
              "#7201a8"
             ],
             [
              0.3333333333333333,
              "#9c179e"
             ],
             [
              0.4444444444444444,
              "#bd3786"
             ],
             [
              0.5555555555555556,
              "#d8576b"
             ],
             [
              0.6666666666666666,
              "#ed7953"
             ],
             [
              0.7777777777777778,
              "#fb9f3a"
             ],
             [
              0.8888888888888888,
              "#fdca26"
             ],
             [
              1,
              "#f0f921"
             ]
            ],
            "type": "histogram2d"
           }
          ],
          "histogram2dcontour": [
           {
            "colorbar": {
             "outlinewidth": 0,
             "ticks": ""
            },
            "colorscale": [
             [
              0,
              "#0d0887"
             ],
             [
              0.1111111111111111,
              "#46039f"
             ],
             [
              0.2222222222222222,
              "#7201a8"
             ],
             [
              0.3333333333333333,
              "#9c179e"
             ],
             [
              0.4444444444444444,
              "#bd3786"
             ],
             [
              0.5555555555555556,
              "#d8576b"
             ],
             [
              0.6666666666666666,
              "#ed7953"
             ],
             [
              0.7777777777777778,
              "#fb9f3a"
             ],
             [
              0.8888888888888888,
              "#fdca26"
             ],
             [
              1,
              "#f0f921"
             ]
            ],
            "type": "histogram2dcontour"
           }
          ],
          "mesh3d": [
           {
            "colorbar": {
             "outlinewidth": 0,
             "ticks": ""
            },
            "type": "mesh3d"
           }
          ],
          "parcoords": [
           {
            "line": {
             "colorbar": {
              "outlinewidth": 0,
              "ticks": ""
             }
            },
            "type": "parcoords"
           }
          ],
          "pie": [
           {
            "automargin": true,
            "type": "pie"
           }
          ],
          "scatter": [
           {
            "fillpattern": {
             "fillmode": "overlay",
             "size": 10,
             "solidity": 0.2
            },
            "type": "scatter"
           }
          ],
          "scatter3d": [
           {
            "line": {
             "colorbar": {
              "outlinewidth": 0,
              "ticks": ""
             }
            },
            "marker": {
             "colorbar": {
              "outlinewidth": 0,
              "ticks": ""
             }
            },
            "type": "scatter3d"
           }
          ],
          "scattercarpet": [
           {
            "marker": {
             "colorbar": {
              "outlinewidth": 0,
              "ticks": ""
             }
            },
            "type": "scattercarpet"
           }
          ],
          "scattergeo": [
           {
            "marker": {
             "colorbar": {
              "outlinewidth": 0,
              "ticks": ""
             }
            },
            "type": "scattergeo"
           }
          ],
          "scattergl": [
           {
            "marker": {
             "colorbar": {
              "outlinewidth": 0,
              "ticks": ""
             }
            },
            "type": "scattergl"
           }
          ],
          "scattermap": [
           {
            "marker": {
             "colorbar": {
              "outlinewidth": 0,
              "ticks": ""
             }
            },
            "type": "scattermap"
           }
          ],
          "scattermapbox": [
           {
            "marker": {
             "colorbar": {
              "outlinewidth": 0,
              "ticks": ""
             }
            },
            "type": "scattermapbox"
           }
          ],
          "scatterpolar": [
           {
            "marker": {
             "colorbar": {
              "outlinewidth": 0,
              "ticks": ""
             }
            },
            "type": "scatterpolar"
           }
          ],
          "scatterpolargl": [
           {
            "marker": {
             "colorbar": {
              "outlinewidth": 0,
              "ticks": ""
             }
            },
            "type": "scatterpolargl"
           }
          ],
          "scatterternary": [
           {
            "marker": {
             "colorbar": {
              "outlinewidth": 0,
              "ticks": ""
             }
            },
            "type": "scatterternary"
           }
          ],
          "surface": [
           {
            "colorbar": {
             "outlinewidth": 0,
             "ticks": ""
            },
            "colorscale": [
             [
              0,
              "#0d0887"
             ],
             [
              0.1111111111111111,
              "#46039f"
             ],
             [
              0.2222222222222222,
              "#7201a8"
             ],
             [
              0.3333333333333333,
              "#9c179e"
             ],
             [
              0.4444444444444444,
              "#bd3786"
             ],
             [
              0.5555555555555556,
              "#d8576b"
             ],
             [
              0.6666666666666666,
              "#ed7953"
             ],
             [
              0.7777777777777778,
              "#fb9f3a"
             ],
             [
              0.8888888888888888,
              "#fdca26"
             ],
             [
              1,
              "#f0f921"
             ]
            ],
            "type": "surface"
           }
          ],
          "table": [
           {
            "cells": {
             "fill": {
              "color": "#EBF0F8"
             },
             "line": {
              "color": "white"
             }
            },
            "header": {
             "fill": {
              "color": "#C8D4E3"
             },
             "line": {
              "color": "white"
             }
            },
            "type": "table"
           }
          ]
         },
         "layout": {
          "annotationdefaults": {
           "arrowcolor": "#2a3f5f",
           "arrowhead": 0,
           "arrowwidth": 1
          },
          "autotypenumbers": "strict",
          "coloraxis": {
           "colorbar": {
            "outlinewidth": 0,
            "ticks": ""
           }
          },
          "colorscale": {
           "diverging": [
            [
             0,
             "#8e0152"
            ],
            [
             0.1,
             "#c51b7d"
            ],
            [
             0.2,
             "#de77ae"
            ],
            [
             0.3,
             "#f1b6da"
            ],
            [
             0.4,
             "#fde0ef"
            ],
            [
             0.5,
             "#f7f7f7"
            ],
            [
             0.6,
             "#e6f5d0"
            ],
            [
             0.7,
             "#b8e186"
            ],
            [
             0.8,
             "#7fbc41"
            ],
            [
             0.9,
             "#4d9221"
            ],
            [
             1,
             "#276419"
            ]
           ],
           "sequential": [
            [
             0,
             "#0d0887"
            ],
            [
             0.1111111111111111,
             "#46039f"
            ],
            [
             0.2222222222222222,
             "#7201a8"
            ],
            [
             0.3333333333333333,
             "#9c179e"
            ],
            [
             0.4444444444444444,
             "#bd3786"
            ],
            [
             0.5555555555555556,
             "#d8576b"
            ],
            [
             0.6666666666666666,
             "#ed7953"
            ],
            [
             0.7777777777777778,
             "#fb9f3a"
            ],
            [
             0.8888888888888888,
             "#fdca26"
            ],
            [
             1,
             "#f0f921"
            ]
           ],
           "sequentialminus": [
            [
             0,
             "#0d0887"
            ],
            [
             0.1111111111111111,
             "#46039f"
            ],
            [
             0.2222222222222222,
             "#7201a8"
            ],
            [
             0.3333333333333333,
             "#9c179e"
            ],
            [
             0.4444444444444444,
             "#bd3786"
            ],
            [
             0.5555555555555556,
             "#d8576b"
            ],
            [
             0.6666666666666666,
             "#ed7953"
            ],
            [
             0.7777777777777778,
             "#fb9f3a"
            ],
            [
             0.8888888888888888,
             "#fdca26"
            ],
            [
             1,
             "#f0f921"
            ]
           ]
          },
          "colorway": [
           "#636efa",
           "#EF553B",
           "#00cc96",
           "#ab63fa",
           "#FFA15A",
           "#19d3f3",
           "#FF6692",
           "#B6E880",
           "#FF97FF",
           "#FECB52"
          ],
          "font": {
           "color": "#2a3f5f"
          },
          "geo": {
           "bgcolor": "white",
           "lakecolor": "white",
           "landcolor": "#E5ECF6",
           "showlakes": true,
           "showland": true,
           "subunitcolor": "white"
          },
          "hoverlabel": {
           "align": "left"
          },
          "hovermode": "closest",
          "mapbox": {
           "style": "light"
          },
          "paper_bgcolor": "white",
          "plot_bgcolor": "#E5ECF6",
          "polar": {
           "angularaxis": {
            "gridcolor": "white",
            "linecolor": "white",
            "ticks": ""
           },
           "bgcolor": "#E5ECF6",
           "radialaxis": {
            "gridcolor": "white",
            "linecolor": "white",
            "ticks": ""
           }
          },
          "scene": {
           "xaxis": {
            "backgroundcolor": "#E5ECF6",
            "gridcolor": "white",
            "gridwidth": 2,
            "linecolor": "white",
            "showbackground": true,
            "ticks": "",
            "zerolinecolor": "white"
           },
           "yaxis": {
            "backgroundcolor": "#E5ECF6",
            "gridcolor": "white",
            "gridwidth": 2,
            "linecolor": "white",
            "showbackground": true,
            "ticks": "",
            "zerolinecolor": "white"
           },
           "zaxis": {
            "backgroundcolor": "#E5ECF6",
            "gridcolor": "white",
            "gridwidth": 2,
            "linecolor": "white",
            "showbackground": true,
            "ticks": "",
            "zerolinecolor": "white"
           }
          },
          "shapedefaults": {
           "line": {
            "color": "#2a3f5f"
           }
          },
          "ternary": {
           "aaxis": {
            "gridcolor": "white",
            "linecolor": "white",
            "ticks": ""
           },
           "baxis": {
            "gridcolor": "white",
            "linecolor": "white",
            "ticks": ""
           },
           "bgcolor": "#E5ECF6",
           "caxis": {
            "gridcolor": "white",
            "linecolor": "white",
            "ticks": ""
           }
          },
          "title": {
           "x": 0.05
          },
          "xaxis": {
           "automargin": true,
           "gridcolor": "white",
           "linecolor": "white",
           "ticks": "",
           "title": {
            "standoff": 15
           },
           "zerolinecolor": "white",
           "zerolinewidth": 2
          },
          "yaxis": {
           "automargin": true,
           "gridcolor": "white",
           "linecolor": "white",
           "ticks": "",
           "title": {
            "standoff": 15
           },
           "zerolinecolor": "white",
           "zerolinewidth": 2
          }
         }
        },
        "title": {
         "text": "1_w"
        },
        "xaxis": {
         "anchor": "y",
         "domain": [
          0,
          0.94
         ]
        },
        "yaxis": {
         "anchor": "x",
         "domain": [
          0,
          1
         ]
        },
        "yaxis2": {
         "anchor": "x",
         "overlaying": "y",
         "side": "right"
        }
       }
      }
     },
     "metadata": {},
     "output_type": "display_data"
    }
   ],
   "source": [
    "fig = make_subplots(specs=[[{\"secondary_y\": True}]])\n",
    "fig.add_trace(go.Scatter(x=df['len'], y=df['Скорость'], mode='lines' ,name='Скорость'), secondary_y=False)\n",
    "fig.add_trace(go.Scatter(x=df['len'], y=df['Высота'],  mode='lines' ,name='Высота'), secondary_y=True)\n",
    "fig.add_trace(go.Scatter(x=df['len'], y=df['Давление левый передний цилиндр'],  mode='lines' ,name='Давление левый передний цилиндр'), secondary_y=True)\n",
    "fig.add_trace(go.Scatter(x=df['len'], y=df['Давление левый передний цилиндр_'],  mode='lines' ,name='Давление левый передний цилиндр_'), secondary_y=True)\n",
    "fig.add_trace(go.Scatter(x=df['len'], y=df['уровень давления впереди,МПа'],  mode='lines' ,name='уровень давления впереди,МПа'), secondary_y=True)\n",
    "\n",
    "name = '1_w'\n",
    "fig.update_layout(title_text=name)"
   ]
  },
  {
   "cell_type": "code",
   "execution_count": null,
   "metadata": {},
   "outputs": [],
   "source": [
    "\n"
   ]
  },
  {
   "cell_type": "code",
   "execution_count": null,
   "metadata": {},
   "outputs": [],
   "source": []
  }
 ],
 "metadata": {
  "kernelspec": {
   "display_name": "Python 3",
   "language": "python",
   "name": "python3"
  },
  "language_info": {
   "codemirror_mode": {
    "name": "ipython",
    "version": 3
   },
   "file_extension": ".py",
   "mimetype": "text/x-python",
   "name": "python",
   "nbconvert_exporter": "python",
   "pygments_lexer": "ipython3",
   "version": "3.13.2"
  }
 },
 "nbformat": 4,
 "nbformat_minor": 2
}
